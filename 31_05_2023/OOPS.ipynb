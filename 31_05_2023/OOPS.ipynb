{
 "cells": [
  {
   "cell_type": "code",
   "execution_count": 14,
   "id": "0fe0e7a0",
   "metadata": {},
   "outputs": [],
   "source": [
    "class Employee:\n",
    "    \n",
    "    def __init__(self, id, name):\n",
    "        self.id = id\n",
    "        self.name = name\n",
    "    \n",
    "    def display(self):\n",
    "        print(\"name of this id {} is {}\".format(self.id, self.name))"
   ]
  },
  {
   "cell_type": "code",
   "execution_count": 15,
   "id": "4b18d8aa",
   "metadata": {},
   "outputs": [
    {
     "data": {
      "text/plain": [
       "__main__.Employee"
      ]
     },
     "execution_count": 15,
     "metadata": {},
     "output_type": "execute_result"
    }
   ],
   "source": [
    "Employee"
   ]
  },
  {
   "cell_type": "code",
   "execution_count": 16,
   "id": "b5a9dd8f",
   "metadata": {},
   "outputs": [],
   "source": [
    "obj1 = Employee(43, \"charan\")"
   ]
  },
  {
   "cell_type": "code",
   "execution_count": 17,
   "id": "c053ea1b",
   "metadata": {},
   "outputs": [
    {
     "name": "stdout",
     "output_type": "stream",
     "text": [
      "name of this id 43 is charan\n"
     ]
    }
   ],
   "source": [
    "obj1.display()"
   ]
  },
  {
   "cell_type": "code",
   "execution_count": 19,
   "id": "d2e41a1c",
   "metadata": {},
   "outputs": [],
   "source": [
    "class Student:\n",
    "    count = 0\n",
    "    def __init__(self, name):\n",
    "        Student.count = Student.count + 1\n",
    "        self.name = name\n",
    "    \n",
    "    def dis_count(self):\n",
    "        print(Student.count)"
   ]
  },
  {
   "cell_type": "code",
   "execution_count": 26,
   "id": "5c20215b",
   "metadata": {},
   "outputs": [],
   "source": [
    "s1 = Student('charan')\n",
    "s1 = Student('charan1')\n",
    "s1 = Student('charan2')\n"
   ]
  },
  {
   "cell_type": "code",
   "execution_count": 28,
   "id": "3ce4d8cb",
   "metadata": {},
   "outputs": [],
   "source": [
    "s2 = Student('charan3')\n"
   ]
  },
  {
   "cell_type": "code",
   "execution_count": 29,
   "id": "60dd6b1a",
   "metadata": {},
   "outputs": [
    {
     "name": "stdout",
     "output_type": "stream",
     "text": [
      "7\n"
     ]
    }
   ],
   "source": [
    "Student.dis_count(3)"
   ]
  },
  {
   "cell_type": "code",
   "execution_count": null,
   "id": "45525e63",
   "metadata": {},
   "outputs": [],
   "source": []
  },
  {
   "cell_type": "code",
   "execution_count": null,
   "id": "f81633eb",
   "metadata": {},
   "outputs": [],
   "source": []
  },
  {
   "cell_type": "code",
   "execution_count": 31,
   "id": "c9315c50",
   "metadata": {},
   "outputs": [
    {
     "name": "stdout",
     "output_type": "stream",
     "text": [
      "---All three---\n",
      "Person: Surya Charan, 0\n",
      "Person: Hare Krishna, 1100\n",
      "Manager: Shiva shankara, 24891\n",
      "Person: Surya Charan, 0\n",
      "Person: Hare Krishna, 1100\n",
      "Surya Charan 0\n",
      "Hare Krishna 1100\n",
      "Charan\n",
      "Krishna\n",
      "1210\n"
     ]
    }
   ],
   "source": [
    "class Person:\n",
    "    \n",
    "    def __init__(self, name, job=None, pay=0):\n",
    "        self.name = name    # instance attribute\n",
    "        self.job = job\n",
    "        self.pay = pay\n",
    "    \n",
    "    # adding behavior methods\n",
    "    def lastName(self):\n",
    "        return self.name.split()[-1]\n",
    "    \n",
    "    def giveRaise(self, percent):\n",
    "        self.pay = int(self.pay * (1 + percent))\n",
    "        return self.pay\n",
    "    \n",
    "    def __str__(self):\n",
    "        return 'Person: {}, {}'.format(self.name, self.pay)\n",
    "\n",
    "# Coding subclass, Polymorphism in action:\n",
    "class Manager(Person):              # Inherit\n",
    "    def __init__(self, name, pay):\n",
    "        self.name = name\n",
    "        self.pay = pay\n",
    "    \n",
    "    \n",
    "    def giveRaise(self, percent, bonus=0.10):    # customize\n",
    "        Person.giveRaise(self, percent+bonus) \n",
    "    def id(self):\n",
    "        print(\"Manages the developer team\")\n",
    "    def __str__(self):\n",
    "        return 'Manager: {}, {}'.format(self.name, self.pay)\n",
    "\n",
    "if __name__ == '__main__':            # when run for testing only\n",
    "    # self-test code\n",
    "    P1 = Person(\"Surya Charan\")\n",
    "    P2 = Person(\"Hare Krishna\", job=\"Universe\", pay=1000)\n",
    "    M1 = Manager(\"Shiva shankara\", pay = 20743)\n",
    "    \n",
    "    print('---All three---')\n",
    "    for object in (P1, P2, M1):\n",
    "        object.giveRaise(0.10)\n",
    "        print(object)\n",
    "    \n",
    "    print(P1)\n",
    "    print(P2)\n",
    "    print(P1.name, P1.pay)\n",
    "    print(P2.name, P2.pay)\n",
    "    print(P1.lastName())\n",
    "    print(P2.lastName())\n",
    "    print(P2.giveRaise(0.10))\n"
   ]
  },
  {
   "cell_type": "code",
   "execution_count": 5,
   "id": "3e3be3b9",
   "metadata": {},
   "outputs": [],
   "source": [
    "import Person"
   ]
  },
  {
   "cell_type": "code",
   "execution_count": 6,
   "id": "25e0be80",
   "metadata": {},
   "outputs": [
    {
     "data": {
      "text/plain": [
       "['Person',\n",
       " '__builtins__',\n",
       " '__cached__',\n",
       " '__doc__',\n",
       " '__file__',\n",
       " '__loader__',\n",
       " '__name__',\n",
       " '__package__',\n",
       " '__spec__']"
      ]
     },
     "execution_count": 6,
     "metadata": {},
     "output_type": "execute_result"
    }
   ],
   "source": [
    "dir(Person)"
   ]
  },
  {
   "cell_type": "code",
   "execution_count": 11,
   "id": "1f83c4ca",
   "metadata": {},
   "outputs": [],
   "source": [
    "P3 = Person.Person(\"Dakshyanai\", job=\"Math professor\", pay=100000)"
   ]
  },
  {
   "cell_type": "code",
   "execution_count": 12,
   "id": "6906ff5b",
   "metadata": {},
   "outputs": [
    {
     "data": {
      "text/plain": [
       "'Dakshyanai'"
      ]
     },
     "execution_count": 12,
     "metadata": {},
     "output_type": "execute_result"
    }
   ],
   "source": [
    "P3.name"
   ]
  },
  {
   "cell_type": "code",
   "execution_count": 13,
   "id": "6cc50922",
   "metadata": {},
   "outputs": [
    {
     "data": {
      "text/plain": [
       "100000"
      ]
     },
     "execution_count": 13,
     "metadata": {},
     "output_type": "execute_result"
    }
   ],
   "source": [
    "P3.pay"
   ]
  },
  {
   "cell_type": "code",
   "execution_count": 14,
   "id": "2a5918f2",
   "metadata": {},
   "outputs": [
    {
     "data": {
      "text/plain": [
       "'Math professor'"
      ]
     },
     "execution_count": 14,
     "metadata": {},
     "output_type": "execute_result"
    }
   ],
   "source": [
    "P3.job"
   ]
  },
  {
   "cell_type": "code",
   "execution_count": 32,
   "id": "09787ad6",
   "metadata": {},
   "outputs": [],
   "source": [
    "from Person import Person"
   ]
  },
  {
   "cell_type": "code",
   "execution_count": 33,
   "id": "372419a2",
   "metadata": {},
   "outputs": [],
   "source": [
    "P1 = Person(\"Cherry Rams\")\n",
    "P2 = Person(\"Hare Krishna\")\n",
    "P3 = Person(\"Radhe Krishna\")"
   ]
  },
  {
   "cell_type": "code",
   "execution_count": 38,
   "id": "9704dfeb",
   "metadata": {},
   "outputs": [],
   "source": [
    "import shelve\n",
    "db = shelve.open(\"persondb\")\n",
    "for object in (P1, P2, P3):\n",
    "    db[object.name] = object\n",
    "db.close()"
   ]
  },
  {
   "cell_type": "code",
   "execution_count": 36,
   "id": "521e8f17",
   "metadata": {},
   "outputs": [
    {
     "data": {
      "text/plain": [
       "<shelve.DbfilenameShelf at 0x261eceb9dd0>"
      ]
     },
     "execution_count": 36,
     "metadata": {},
     "output_type": "execute_result"
    }
   ],
   "source": [
    "db"
   ]
  },
  {
   "cell_type": "code",
   "execution_count": 40,
   "id": "c2fd6ad1",
   "metadata": {},
   "outputs": [
    {
     "name": "stdout",
     "output_type": "stream",
     "text": [
      "<shelve.DbfilenameShelf object at 0x00000261ED30A710>\n"
     ]
    }
   ],
   "source": [
    "print(db)"
   ]
  },
  {
   "cell_type": "code",
   "execution_count": null,
   "id": "f18e3889",
   "metadata": {},
   "outputs": [],
   "source": []
  }
 ],
 "metadata": {
  "kernelspec": {
   "display_name": "Python 3 (ipykernel)",
   "language": "python",
   "name": "python3"
  },
  "language_info": {
   "codemirror_mode": {
    "name": "ipython",
    "version": 3
   },
   "file_extension": ".py",
   "mimetype": "text/x-python",
   "name": "python",
   "nbconvert_exporter": "python",
   "pygments_lexer": "ipython3",
   "version": "3.11.2"
  }
 },
 "nbformat": 4,
 "nbformat_minor": 5
}
