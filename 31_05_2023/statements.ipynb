{
 "cells": [
  {
   "cell_type": "code",
   "execution_count": 1,
   "id": "dae66e4d",
   "metadata": {},
   "outputs": [
    {
     "name": "stdout",
     "output_type": "stream",
     "text": [
      "1\n",
      "2\n",
      "3\n",
      "4\n",
      "5\n",
      "6\n",
      "7\n",
      "8\n",
      "9\n"
     ]
    }
   ],
   "source": [
    "for i in list(range(1, 10)):\n",
    "    print(i)"
   ]
  },
  {
   "cell_type": "code",
   "execution_count": 3,
   "id": "7c13f1f2",
   "metadata": {},
   "outputs": [
    {
     "name": "stdout",
     "output_type": "stream",
     "text": [
      "8\n"
     ]
    }
   ],
   "source": [
    "a=1; b=2; c=5; print(a+b+c)"
   ]
  },
  {
   "cell_type": "code",
   "execution_count": 7,
   "id": "bbd28eb4",
   "metadata": {},
   "outputs": [
    {
     "name": "stdout",
     "output_type": "stream",
     "text": [
      "2\n"
     ]
    }
   ],
   "source": [
    "if a<b: print(b)"
   ]
  },
  {
   "cell_type": "code",
   "execution_count": 6,
   "id": "2efd9039",
   "metadata": {},
   "outputs": [
    {
     "data": {
      "text/plain": [
       "2"
      ]
     },
     "execution_count": 6,
     "metadata": {},
     "output_type": "execute_result"
    }
   ],
   "source": [
    "b"
   ]
  },
  {
   "cell_type": "markdown",
   "id": "732daa99",
   "metadata": {},
   "source": [
    "### Assignment statements"
   ]
  },
  {
   "cell_type": "code",
   "execution_count": 8,
   "id": "b2c13c47",
   "metadata": {},
   "outputs": [],
   "source": [
    "var1 = \"Krishna\""
   ]
  },
  {
   "cell_type": "code",
   "execution_count": 13,
   "id": "25da6e6d",
   "metadata": {},
   "outputs": [],
   "source": [
    "(var2, var3) = (\"Hare\", \"krishna\")"
   ]
  },
  {
   "cell_type": "code",
   "execution_count": 14,
   "id": "a80dbae2",
   "metadata": {},
   "outputs": [
    {
     "data": {
      "text/plain": [
       "'Hare'"
      ]
     },
     "execution_count": 14,
     "metadata": {},
     "output_type": "execute_result"
    }
   ],
   "source": [
    "var2"
   ]
  },
  {
   "cell_type": "code",
   "execution_count": 15,
   "id": "ab3ee3fc",
   "metadata": {},
   "outputs": [
    {
     "data": {
      "text/plain": [
       "'krishna'"
      ]
     },
     "execution_count": 15,
     "metadata": {},
     "output_type": "execute_result"
    }
   ],
   "source": [
    "var3"
   ]
  },
  {
   "cell_type": "code",
   "execution_count": 17,
   "id": "78c4866b",
   "metadata": {},
   "outputs": [],
   "source": [
    "[var4, var5] = [\"Hare\", \"krishna\"]"
   ]
  },
  {
   "cell_type": "code",
   "execution_count": 18,
   "id": "bceab572",
   "metadata": {},
   "outputs": [
    {
     "data": {
      "text/plain": [
       "'Hare'"
      ]
     },
     "execution_count": 18,
     "metadata": {},
     "output_type": "execute_result"
    }
   ],
   "source": [
    "var4"
   ]
  },
  {
   "cell_type": "code",
   "execution_count": 19,
   "id": "9546eb40",
   "metadata": {},
   "outputs": [
    {
     "data": {
      "text/plain": [
       "'krishna'"
      ]
     },
     "execution_count": 19,
     "metadata": {},
     "output_type": "execute_result"
    }
   ],
   "source": [
    "var5"
   ]
  },
  {
   "cell_type": "code",
   "execution_count": 20,
   "id": "36217d23",
   "metadata": {},
   "outputs": [],
   "source": [
    "a, b, c, d = \"Hare\""
   ]
  },
  {
   "cell_type": "code",
   "execution_count": 21,
   "id": "11fab693",
   "metadata": {},
   "outputs": [
    {
     "data": {
      "text/plain": [
       "'H'"
      ]
     },
     "execution_count": 21,
     "metadata": {},
     "output_type": "execute_result"
    }
   ],
   "source": [
    "a"
   ]
  },
  {
   "cell_type": "code",
   "execution_count": 22,
   "id": "fbffb1f9",
   "metadata": {},
   "outputs": [
    {
     "data": {
      "text/plain": [
       "'a'"
      ]
     },
     "execution_count": 22,
     "metadata": {},
     "output_type": "execute_result"
    }
   ],
   "source": [
    "b"
   ]
  },
  {
   "cell_type": "code",
   "execution_count": 23,
   "id": "154feb2d",
   "metadata": {},
   "outputs": [
    {
     "data": {
      "text/plain": [
       "'r'"
      ]
     },
     "execution_count": 23,
     "metadata": {},
     "output_type": "execute_result"
    }
   ],
   "source": [
    "c"
   ]
  },
  {
   "cell_type": "code",
   "execution_count": 24,
   "id": "f58b63bc",
   "metadata": {},
   "outputs": [
    {
     "data": {
      "text/plain": [
       "'e'"
      ]
     },
     "execution_count": 24,
     "metadata": {},
     "output_type": "execute_result"
    }
   ],
   "source": [
    "d"
   ]
  },
  {
   "cell_type": "code",
   "execution_count": 28,
   "id": "6a9315f1",
   "metadata": {},
   "outputs": [
    {
     "name": "stdout",
     "output_type": "stream",
     "text": [
      "H\n",
      "a\n",
      "r\n",
      "e\n"
     ]
    }
   ],
   "source": [
    "for i in a, b, c, d:\n",
    "    print(i)"
   ]
  },
  {
   "cell_type": "code",
   "execution_count": 32,
   "id": "20ffa036",
   "metadata": {},
   "outputs": [],
   "source": [
    "c, e, f, g, h, *d = \"HareKrishna\""
   ]
  },
  {
   "cell_type": "code",
   "execution_count": 33,
   "id": "68ae3ff6",
   "metadata": {},
   "outputs": [
    {
     "data": {
      "text/plain": [
       "'H'"
      ]
     },
     "execution_count": 33,
     "metadata": {},
     "output_type": "execute_result"
    }
   ],
   "source": [
    "c"
   ]
  },
  {
   "cell_type": "code",
   "execution_count": 34,
   "id": "39557ebe",
   "metadata": {},
   "outputs": [
    {
     "data": {
      "text/plain": [
       "['r', 'i', 's', 'h', 'n', 'a']"
      ]
     },
     "execution_count": 34,
     "metadata": {},
     "output_type": "execute_result"
    }
   ],
   "source": [
    "d"
   ]
  },
  {
   "cell_type": "code",
   "execution_count": 35,
   "id": "6d575988",
   "metadata": {},
   "outputs": [
    {
     "data": {
      "text/plain": [
       "'a'"
      ]
     },
     "execution_count": 35,
     "metadata": {},
     "output_type": "execute_result"
    }
   ],
   "source": [
    "e"
   ]
  },
  {
   "cell_type": "code",
   "execution_count": 36,
   "id": "7442ee16",
   "metadata": {},
   "outputs": [
    {
     "data": {
      "text/plain": [
       "'r'"
      ]
     },
     "execution_count": 36,
     "metadata": {},
     "output_type": "execute_result"
    }
   ],
   "source": [
    "f"
   ]
  },
  {
   "cell_type": "code",
   "execution_count": 37,
   "id": "1d2a1ca6",
   "metadata": {},
   "outputs": [
    {
     "data": {
      "text/plain": [
       "'e'"
      ]
     },
     "execution_count": 37,
     "metadata": {},
     "output_type": "execute_result"
    }
   ],
   "source": [
    "g"
   ]
  },
  {
   "cell_type": "code",
   "execution_count": 38,
   "id": "1fcc507e",
   "metadata": {},
   "outputs": [
    {
     "data": {
      "text/plain": [
       "'K'"
      ]
     },
     "execution_count": 38,
     "metadata": {},
     "output_type": "execute_result"
    }
   ],
   "source": [
    "h"
   ]
  },
  {
   "cell_type": "code",
   "execution_count": 39,
   "id": "b795b484",
   "metadata": {},
   "outputs": [],
   "source": [
    "var6 = var7 = \"Shiva\""
   ]
  },
  {
   "cell_type": "code",
   "execution_count": 40,
   "id": "a6213dab",
   "metadata": {},
   "outputs": [
    {
     "data": {
      "text/plain": [
       "'Shiva'"
      ]
     },
     "execution_count": 40,
     "metadata": {},
     "output_type": "execute_result"
    }
   ],
   "source": [
    "var6"
   ]
  },
  {
   "cell_type": "code",
   "execution_count": 41,
   "id": "62f48afe",
   "metadata": {},
   "outputs": [
    {
     "data": {
      "text/plain": [
       "'Shiva'"
      ]
     },
     "execution_count": 41,
     "metadata": {},
     "output_type": "execute_result"
    }
   ],
   "source": [
    "var7"
   ]
  },
  {
   "cell_type": "code",
   "execution_count": 42,
   "id": "0a8787cd",
   "metadata": {},
   "outputs": [],
   "source": [
    "var8 = 84\n",
    "var8 += 84"
   ]
  },
  {
   "cell_type": "code",
   "execution_count": 43,
   "id": "158c6957",
   "metadata": {},
   "outputs": [
    {
     "data": {
      "text/plain": [
       "168"
      ]
     },
     "execution_count": 43,
     "metadata": {},
     "output_type": "execute_result"
    }
   ],
   "source": [
    "var8"
   ]
  },
  {
   "cell_type": "code",
   "execution_count": 53,
   "id": "27417856",
   "metadata": {},
   "outputs": [
    {
     "name": "stdout",
     "output_type": "stream",
     "text": [
      "ramakrishna+harekrishna\n"
     ]
    }
   ],
   "source": [
    "print('ramakrishna', 'harekrishna', sep=\"+\")"
   ]
  },
  {
   "cell_type": "code",
   "execution_count": 68,
   "id": "c69f2507",
   "metadata": {},
   "outputs": [
    {
     "name": "stdout",
     "output_type": "stream",
     "text": [
      "0 <--> 1 <--> 2 <--> 3 <--> 4 <--> 5 <--> 6 <--> 7 <--> 8 <--> 9 <--> "
     ]
    }
   ],
   "source": [
    "a=0; b=10\n",
    "while a<b:\n",
    "    print(a, end=\" <--> \")\n",
    "    a += 1"
   ]
  },
  {
   "cell_type": "code",
   "execution_count": 69,
   "id": "bc6fa914",
   "metadata": {},
   "outputs": [],
   "source": [
    "s1 ='abcajdajfjaf'\n",
    "s2 = 'xyz123'\n",
    "x = list(zip(s1, s2))"
   ]
  },
  {
   "cell_type": "code",
   "execution_count": 70,
   "id": "47b0355f",
   "metadata": {},
   "outputs": [
    {
     "data": {
      "text/plain": [
       "[('a', 'x'), ('b', 'y'), ('c', 'z'), ('a', '1'), ('j', '2'), ('d', '3')]"
      ]
     },
     "execution_count": 70,
     "metadata": {},
     "output_type": "execute_result"
    }
   ],
   "source": [
    "x"
   ]
  },
  {
   "cell_type": "code",
   "execution_count": null,
   "id": "8a6ab73b",
   "metadata": {},
   "outputs": [],
   "source": []
  }
 ],
 "metadata": {
  "kernelspec": {
   "display_name": "Python 3 (ipykernel)",
   "language": "python",
   "name": "python3"
  },
  "language_info": {
   "codemirror_mode": {
    "name": "ipython",
    "version": 3
   },
   "file_extension": ".py",
   "mimetype": "text/x-python",
   "name": "python",
   "nbconvert_exporter": "python",
   "pygments_lexer": "ipython3",
   "version": "3.11.2"
  }
 },
 "nbformat": 4,
 "nbformat_minor": 5
}
