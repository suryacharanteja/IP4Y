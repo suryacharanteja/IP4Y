{
 "cells": [
  {
   "cell_type": "code",
   "execution_count": 1,
   "id": "6bbe53c8",
   "metadata": {},
   "outputs": [
    {
     "ename": "SyntaxError",
     "evalue": "invalid decimal literal (3494085205.py, line 1)",
     "output_type": "error",
     "traceback": [
      "\u001b[1;36m  Cell \u001b[1;32mIn[1], line 1\u001b[1;36m\u001b[0m\n\u001b[1;33m    x = %0.2f\u001b[0m\n\u001b[1;37m           ^\u001b[0m\n\u001b[1;31mSyntaxError\u001b[0m\u001b[1;31m:\u001b[0m invalid decimal literal\n"
     ]
    }
   ],
   "source": [
    "x = %0.2f"
   ]
  },
  {
   "cell_type": "code",
   "execution_count": null,
   "id": "a3625cf4",
   "metadata": {},
   "outputs": [],
   "source": []
  },
  {
   "cell_type": "code",
   "execution_count": null,
   "id": "09b5c6b0",
   "metadata": {},
   "outputs": [],
   "source": [
    "from decimal import *"
   ]
  },
  {
   "cell_type": "code",
   "execution_count": null,
   "id": "da3bb541",
   "metadata": {},
   "outputs": [],
   "source": [
    "x = Decimal(4)"
   ]
  },
  {
   "cell_type": "code",
   "execution_count": null,
   "id": "90835f23",
   "metadata": {},
   "outputs": [],
   "source": [
    "type(x)"
   ]
  },
  {
   "cell_type": "code",
   "execution_count": null,
   "id": "6ced9c15",
   "metadata": {},
   "outputs": [],
   "source": [
    "from fractions import Fraction"
   ]
  },
  {
   "cell_type": "code",
   "execution_count": null,
   "id": "376f59c2",
   "metadata": {},
   "outputs": [],
   "source": [
    "y = Fraction(1, 4)"
   ]
  },
  {
   "cell_type": "code",
   "execution_count": null,
   "id": "7601a781",
   "metadata": {},
   "outputs": [],
   "source": [
    "print(y)"
   ]
  },
  {
   "cell_type": "code",
   "execution_count": null,
   "id": "75320792",
   "metadata": {},
   "outputs": [],
   "source": [
    "type(y)"
   ]
  },
  {
   "cell_type": "code",
   "execution_count": null,
   "id": "669d90e1",
   "metadata": {},
   "outputs": [],
   "source": [
    "z = -2"
   ]
  },
  {
   "cell_type": "code",
   "execution_count": null,
   "id": "0a9377ea",
   "metadata": {},
   "outputs": [],
   "source": [
    "type(z)"
   ]
  },
  {
   "cell_type": "code",
   "execution_count": null,
   "id": "f4bc0ff1",
   "metadata": {},
   "outputs": [],
   "source": [
    "com = 8 + 7i"
   ]
  },
  {
   "cell_type": "code",
   "execution_count": null,
   "id": "f761c03b",
   "metadata": {},
   "outputs": [],
   "source": [
    "s = \"C://users//downloads\""
   ]
  },
  {
   "cell_type": "code",
   "execution_count": null,
   "id": "49623048",
   "metadata": {},
   "outputs": [],
   "source": [
    "type(s)"
   ]
  },
  {
   "cell_type": "code",
   "execution_count": null,
   "id": "9de58072",
   "metadata": {},
   "outputs": [],
   "source": [
    "d = r'ddjj'"
   ]
  },
  {
   "cell_type": "code",
   "execution_count": null,
   "id": "7acc9d00",
   "metadata": {},
   "outputs": [],
   "source": [
    "type(d)"
   ]
  },
  {
   "cell_type": "code",
   "execution_count": null,
   "id": "a62f06db",
   "metadata": {},
   "outputs": [],
   "source": []
  },
  {
   "cell_type": "code",
   "execution_count": null,
   "id": "c94a699e",
   "metadata": {},
   "outputs": [],
   "source": [
    "list = [2, 3.5, 'string', 5 + 7j, r'raw']"
   ]
  },
  {
   "cell_type": "code",
   "execution_count": null,
   "id": "d73fd841",
   "metadata": {},
   "outputs": [],
   "source": [
    "type(list)"
   ]
  },
  {
   "cell_type": "code",
   "execution_count": null,
   "id": "91c2220a",
   "metadata": {},
   "outputs": [],
   "source": [
    "print(list)"
   ]
  },
  {
   "cell_type": "code",
   "execution_count": null,
   "id": "c92532a3",
   "metadata": {},
   "outputs": [],
   "source": [
    "[]"
   ]
  },
  {
   "cell_type": "code",
   "execution_count": null,
   "id": "99e823e4",
   "metadata": {},
   "outputs": [],
   "source": [
    "{}"
   ]
  },
  {
   "cell_type": "code",
   "execution_count": null,
   "id": "bb2c09e2",
   "metadata": {},
   "outputs": [],
   "source": [
    "()"
   ]
  },
  {
   "cell_type": "code",
   "execution_count": null,
   "id": "b08fbb96",
   "metadata": {},
   "outputs": [],
   "source": [
    "dict = {'key':'value'}"
   ]
  },
  {
   "cell_type": "code",
   "execution_count": null,
   "id": "8ea0413f",
   "metadata": {},
   "outputs": [],
   "source": [
    "type(dict)"
   ]
  },
  {
   "cell_type": "code",
   "execution_count": null,
   "id": "84af267a",
   "metadata": {},
   "outputs": [],
   "source": [
    "print(dict)"
   ]
  },
  {
   "cell_type": "code",
   "execution_count": 2,
   "id": "295984b2",
   "metadata": {},
   "outputs": [],
   "source": [
    "dict2 = {'int': 5, 'float': 5.6, 'string': 'Rahul Srishti', 'complex': 3+7j, 'list': [2, 3.5, 'string', 5 + 7j, r'raw'], 'raw': r'raw' }"
   ]
  },
  {
   "cell_type": "code",
   "execution_count": 3,
   "id": "0b4b9526",
   "metadata": {},
   "outputs": [
    {
     "name": "stdout",
     "output_type": "stream",
     "text": [
      "{'int': 5, 'float': 5.6, 'string': 'Rahul Srishti', 'complex': (3+7j), 'list': [2, 3.5, 'string', (5+7j), 'raw'], 'raw': 'raw'}\n"
     ]
    }
   ],
   "source": [
    "print(dict2)"
   ]
  },
  {
   "cell_type": "code",
   "execution_count": 4,
   "id": "bd7443b4",
   "metadata": {},
   "outputs": [],
   "source": [
    "tup = 5, 5.6, 'RahulKOOL', 5+7j, [2, 3.5, 'string', 5 + 7j, r'raw'], {'int': 5, 'float': 5.6, 'string': 'Rahul Srishti', 'complex': 3+7j, 'list': [2, 3.5, 'string', 5 + 7j, r'raw'], 'raw': r'raw' }  "
   ]
  },
  {
   "cell_type": "code",
   "execution_count": 5,
   "id": "5bdeec9b",
   "metadata": {},
   "outputs": [
    {
     "data": {
      "text/plain": [
       "tuple"
      ]
     },
     "execution_count": 5,
     "metadata": {},
     "output_type": "execute_result"
    }
   ],
   "source": [
    "type(tup)"
   ]
  },
  {
   "cell_type": "code",
   "execution_count": 6,
   "id": "618cfb2f",
   "metadata": {},
   "outputs": [
    {
     "name": "stdout",
     "output_type": "stream",
     "text": [
      "(5, 5.6, 'RahulKOOL', (5+7j), [2, 3.5, 'string', (5+7j), 'raw'], {'int': 5, 'float': 5.6, 'string': 'Rahul Srishti', 'complex': (3+7j), 'list': [2, 3.5, 'string', (5+7j), 'raw'], 'raw': 'raw'})\n"
     ]
    }
   ],
   "source": [
    "print(tup)"
   ]
  },
  {
   "cell_type": "code",
   "execution_count": 7,
   "id": "20927593",
   "metadata": {},
   "outputs": [],
   "source": [
    "sets = {5, 5.6, 'string', r'string'}"
   ]
  },
  {
   "cell_type": "code",
   "execution_count": 8,
   "id": "83a873fa",
   "metadata": {},
   "outputs": [
    {
     "data": {
      "text/plain": [
       "True"
      ]
     },
     "execution_count": 8,
     "metadata": {},
     "output_type": "execute_result"
    }
   ],
   "source": [
    "True"
   ]
  },
  {
   "cell_type": "code",
   "execution_count": 9,
   "id": "ccc8298b",
   "metadata": {},
   "outputs": [
    {
     "data": {
      "text/plain": [
       "False"
      ]
     },
     "execution_count": 9,
     "metadata": {},
     "output_type": "execute_result"
    }
   ],
   "source": [
    "False"
   ]
  },
  {
   "cell_type": "code",
   "execution_count": 10,
   "id": "5fd26754",
   "metadata": {},
   "outputs": [
    {
     "data": {
      "text/plain": [
       "int"
      ]
     },
     "execution_count": 10,
     "metadata": {},
     "output_type": "execute_result"
    }
   ],
   "source": [
    "type(4)"
   ]
  },
  {
   "cell_type": "code",
   "execution_count": 11,
   "id": "be2eb974",
   "metadata": {},
   "outputs": [
    {
     "data": {
      "text/plain": [
       "type"
      ]
     },
     "execution_count": 11,
     "metadata": {},
     "output_type": "execute_result"
    }
   ],
   "source": [
    "type(type)"
   ]
  },
  {
   "cell_type": "code",
   "execution_count": 12,
   "id": "197c5588",
   "metadata": {},
   "outputs": [],
   "source": [
    "None"
   ]
  },
  {
   "cell_type": "markdown",
   "id": "877c8a5a",
   "metadata": {},
   "source": [
    "###### literal for file"
   ]
  },
  {
   "cell_type": "code",
   "execution_count": 13,
   "id": "c1b55318",
   "metadata": {},
   "outputs": [],
   "source": [
    "file1 = open(\"./file.txt\")"
   ]
  },
  {
   "cell_type": "code",
   "execution_count": 14,
   "id": "233ab3cc",
   "metadata": {},
   "outputs": [
    {
     "data": {
      "text/plain": [
       "_io.TextIOWrapper"
      ]
     },
     "execution_count": 14,
     "metadata": {},
     "output_type": "execute_result"
    }
   ],
   "source": [
    "type(file1)"
   ]
  },
  {
   "cell_type": "markdown",
   "id": "d431c250",
   "metadata": {},
   "source": [
    "###### octal"
   ]
  },
  {
   "cell_type": "code",
   "execution_count": 15,
   "id": "ff0d903c",
   "metadata": {},
   "outputs": [],
   "source": [
    "x = [1, 2, 3, 4, 5, 6, 7, 8, 9, 10, 11, 12, 13, 14, 15, 16]"
   ]
  },
  {
   "cell_type": "code",
   "execution_count": 16,
   "id": "7c994f55",
   "metadata": {},
   "outputs": [
    {
     "name": "stdout",
     "output_type": "stream",
     "text": [
      "[1, 2, 3, 4, 5, 6, 7, 8, 9, 10, 11, 12, 13, 14, 15, 16]\n"
     ]
    }
   ],
   "source": [
    "print(x)"
   ]
  },
  {
   "cell_type": "code",
   "execution_count": 29,
   "id": "35e2dcbf",
   "metadata": {},
   "outputs": [
    {
     "name": "stdout",
     "output_type": "stream",
     "text": [
      "24\n"
     ]
    }
   ],
   "source": [
    "y = 0x18\n",
    "print(y)"
   ]
  },
  {
   "cell_type": "code",
   "execution_count": 30,
   "id": "42612a39",
   "metadata": {},
   "outputs": [
    {
     "ename": "SyntaxError",
     "evalue": "invalid syntax (1598960054.py, line 1)",
     "output_type": "error",
     "traceback": [
      "\u001b[1;36m  Cell \u001b[1;32mIn[30], line 1\u001b[1;36m\u001b[0m\n\u001b[1;33m    0 1 2 3 4 5 6 7 8 9\u001b[0m\n\u001b[1;37m      ^\u001b[0m\n\u001b[1;31mSyntaxError\u001b[0m\u001b[1;31m:\u001b[0m invalid syntax\n"
     ]
    }
   ],
   "source": [
    "0 1 2 3 4 5 6 7 8 9\n",
    "10 11 12 \n",
    "20 21 \n",
    "20 \n",
    "0\n",
    "10 11 12 13\n",
    "\n",
    "0 1 2 3 4 5 6 7 \n",
    "10 11 12 13 14 15 16 17 20 21 22 23 24 25 26 27 30 31 32 33 34 45 36 37 40 41 42 43 44 45 46 47 50 51 52 53   "
   ]
  },
  {
   "cell_type": "code",
   "execution_count": 31,
   "id": "af32bf6e",
   "metadata": {},
   "outputs": [
    {
     "ename": "SyntaxError",
     "evalue": "invalid syntax (4280291028.py, line 1)",
     "output_type": "error",
     "traceback": [
      "\u001b[1;36m  Cell \u001b[1;32mIn[31], line 1\u001b[1;36m\u001b[0m\n\u001b[1;33m    0 1 2 3 4 5 6 7 8 9 A B C D E F\u001b[0m\n\u001b[1;37m      ^\u001b[0m\n\u001b[1;31mSyntaxError\u001b[0m\u001b[1;31m:\u001b[0m invalid syntax\n"
     ]
    }
   ],
   "source": [
    "0 1 2 3 4 5 6 7 8 9 A B C D E F \n"
   ]
  },
  {
   "cell_type": "code",
   "execution_count": 40,
   "id": "81a6e9e3",
   "metadata": {},
   "outputs": [
    {
     "data": {
      "text/plain": [
       "16"
      ]
     },
     "execution_count": 40,
     "metadata": {},
     "output_type": "execute_result"
    }
   ],
   "source": [
    "0x10"
   ]
  },
  {
   "cell_type": "markdown",
   "id": "a127b25e",
   "metadata": {},
   "source": [
    "# decimal"
   ]
  },
  {
   "cell_type": "code",
   "execution_count": null,
   "id": "88fbe3a4",
   "metadata": {},
   "outputs": [],
   "source": [
    "0 1 2 3 4 5 6 7 8 9 \n",
    "\n",
    "10 11 12 13 14 .......................... infinite"
   ]
  },
  {
   "cell_type": "markdown",
   "id": "551f8bf3",
   "metadata": {},
   "source": [
    "# octal"
   ]
  },
  {
   "cell_type": "code",
   "execution_count": null,
   "id": "6f053944",
   "metadata": {},
   "outputs": [],
   "source": [
    "0 1 2 3 4 5 6 7\n",
    "\n",
    "10 11 12 13 14 15 16 17  20 21 22 ..... "
   ]
  },
  {
   "cell_type": "markdown",
   "id": "13f1ecbe",
   "metadata": {},
   "source": [
    "# hexa"
   ]
  },
  {
   "cell_type": "code",
   "execution_count": null,
   "id": "209f5a2a",
   "metadata": {},
   "outputs": [],
   "source": [
    "0 1 2 3 4 5 6 7 8 9 A B C D E F\n",
    "\n",
    "10 11 12 13 15 15 16 17 18 19 1A 1B 1C 1D 1E 1F"
   ]
  },
  {
   "cell_type": "markdown",
   "id": "30e2fb84",
   "metadata": {},
   "source": [
    "# Binary"
   ]
  },
  {
   "cell_type": "code",
   "execution_count": 66,
   "id": "0e050296",
   "metadata": {},
   "outputs": [
    {
     "data": {
      "text/plain": [
       "16"
      ]
     },
     "execution_count": 66,
     "metadata": {},
     "output_type": "execute_result"
    }
   ],
   "source": [
    "0b10000"
   ]
  },
  {
   "cell_type": "code",
   "execution_count": null,
   "id": "b28ed157",
   "metadata": {},
   "outputs": [],
   "source": [
    "0 1 10 11 100 101 110 111 1000 1001 1010 1100 1101 1110 1111 10000"
   ]
  },
  {
   "cell_type": "code",
   "execution_count": 61,
   "id": "7053a5c2",
   "metadata": {},
   "outputs": [
    {
     "data": {
      "text/plain": [
       "'0b1101'"
      ]
     },
     "execution_count": 61,
     "metadata": {},
     "output_type": "execute_result"
    }
   ],
   "source": [
    "bin(13)"
   ]
  },
  {
   "cell_type": "markdown",
   "id": "96f9931d",
   "metadata": {},
   "source": [
    "# Python-Decimal"
   ]
  },
  {
   "cell_type": "code",
   "execution_count": 67,
   "id": "ee936d3e",
   "metadata": {},
   "outputs": [
    {
     "data": {
      "text/plain": [
       "24"
      ]
     },
     "execution_count": 67,
     "metadata": {},
     "output_type": "execute_result"
    }
   ],
   "source": [
    "24"
   ]
  },
  {
   "cell_type": "code",
   "execution_count": 68,
   "id": "3c649334",
   "metadata": {},
   "outputs": [
    {
     "data": {
      "text/plain": [
       "'0xe'"
      ]
     },
     "execution_count": 68,
     "metadata": {},
     "output_type": "execute_result"
    }
   ],
   "source": [
    "hex(14)"
   ]
  },
  {
   "cell_type": "code",
   "execution_count": null,
   "id": "2bed1daf",
   "metadata": {},
   "outputs": [],
   "source": [
    "oct(14)"
   ]
  },
  {
   "cell_type": "code",
   "execution_count": 1,
   "id": "8944374f",
   "metadata": {},
   "outputs": [],
   "source": [
    "l = [1, 2, 3]"
   ]
  },
  {
   "cell_type": "code",
   "execution_count": null,
   "id": "7cd8743f",
   "metadata": {},
   "outputs": [],
   "source": [
    "l."
   ]
  },
  {
   "cell_type": "code",
   "execution_count": 7,
   "id": "c5a43847",
   "metadata": {},
   "outputs": [
    {
     "data": {
      "text/plain": [
       "<function str.upper()>"
      ]
     },
     "execution_count": 7,
     "metadata": {},
     "output_type": "execute_result"
    }
   ],
   "source": [
    "'Jai Siya Ram'.upper()"
   ]
  },
  {
   "cell_type": "code",
   "execution_count": 8,
   "id": "c9a7eb7b",
   "metadata": {},
   "outputs": [],
   "source": [
    "d = {1: 2}"
   ]
  },
  {
   "cell_type": "code",
   "execution_count": 13,
   "id": "c247aa14",
   "metadata": {},
   "outputs": [
    {
     "data": {
      "text/plain": [
       "dict_values([2])"
      ]
     },
     "execution_count": 13,
     "metadata": {},
     "output_type": "execute_result"
    }
   ],
   "source": [
    "d."
   ]
  },
  {
   "cell_type": "code",
   "execution_count": 14,
   "id": "dcd32f5f",
   "metadata": {},
   "outputs": [],
   "source": [
    "t = 1, 2"
   ]
  },
  {
   "cell_type": "code",
   "execution_count": 15,
   "id": "85d66c9d",
   "metadata": {},
   "outputs": [],
   "source": [
    "def sum(x, y):\n",
    "    z = x + y\n",
    "    return z"
   ]
  },
  {
   "cell_type": "code",
   "execution_count": 16,
   "id": "c1094467",
   "metadata": {},
   "outputs": [
    {
     "data": {
      "text/plain": [
       "3"
      ]
     },
     "execution_count": 16,
     "metadata": {},
     "output_type": "execute_result"
    }
   ],
   "source": [
    "sum(1, 2)"
   ]
  },
  {
   "cell_type": "code",
   "execution_count": 18,
   "id": "b757d03d",
   "metadata": {},
   "outputs": [
    {
     "data": {
      "text/plain": [
       "int"
      ]
     },
     "execution_count": 18,
     "metadata": {},
     "output_type": "execute_result"
    }
   ],
   "source": [
    "type(1)\n",
    "    "
   ]
  },
  {
   "cell_type": "code",
   "execution_count": 19,
   "id": "8581cb99",
   "metadata": {},
   "outputs": [],
   "source": [
    "x = [1, 3]"
   ]
  },
  {
   "cell_type": "code",
   "execution_count": 20,
   "id": "8939ab58",
   "metadata": {},
   "outputs": [
    {
     "data": {
      "text/plain": [
       "list"
      ]
     },
     "execution_count": 20,
     "metadata": {},
     "output_type": "execute_result"
    }
   ],
   "source": [
    "type(x)"
   ]
  },
  {
   "cell_type": "code",
   "execution_count": 21,
   "id": "59296c9d",
   "metadata": {},
   "outputs": [
    {
     "data": {
      "text/plain": [
       "[1, 3]"
      ]
     },
     "execution_count": 21,
     "metadata": {},
     "output_type": "execute_result"
    }
   ],
   "source": [
    "x."
   ]
  },
  {
   "cell_type": "code",
   "execution_count": 22,
   "id": "b6f3fab7",
   "metadata": {},
   "outputs": [
    {
     "name": "stdout",
     "output_type": "stream",
     "text": [
      "[1, 3]\n"
     ]
    }
   ],
   "source": [
    "print(x)."
   ]
  },
  {
   "cell_type": "code",
   "execution_count": 27,
   "id": "bc87e60e",
   "metadata": {},
   "outputs": [
    {
     "data": {
      "text/plain": [
       "complex"
      ]
     },
     "execution_count": 27,
     "metadata": {},
     "output_type": "execute_result"
    }
   ],
   "source": [
    "type(1.3 + 1j)\n"
   ]
  },
  {
   "cell_type": "code",
   "execution_count": 28,
   "id": "6288d262",
   "metadata": {},
   "outputs": [],
   "source": [
    "x = 1"
   ]
  },
  {
   "cell_type": "code",
   "execution_count": 30,
   "id": "7cf219a6",
   "metadata": {},
   "outputs": [],
   "source": [
    "y = 1.5\n"
   ]
  },
  {
   "cell_type": "code",
   "execution_count": 31,
   "id": "084ccf42",
   "metadata": {},
   "outputs": [],
   "source": [
    "z = x + 1j"
   ]
  },
  {
   "cell_type": "code",
   "execution_count": 32,
   "id": "afdec568",
   "metadata": {},
   "outputs": [
    {
     "data": {
      "text/plain": [
       "(1+1j)"
      ]
     },
     "execution_count": 32,
     "metadata": {},
     "output_type": "execute_result"
    }
   ],
   "source": [
    "z"
   ]
  },
  {
   "cell_type": "code",
   "execution_count": 36,
   "id": "e559b4ae",
   "metadata": {},
   "outputs": [],
   "source": [
    "import fractions as f"
   ]
  },
  {
   "cell_type": "code",
   "execution_count": 37,
   "id": "a1cb3852",
   "metadata": {},
   "outputs": [
    {
     "data": {
      "text/plain": [
       "Fraction(1, 2)"
      ]
     },
     "execution_count": 37,
     "metadata": {},
     "output_type": "execute_result"
    }
   ],
   "source": [
    "f.Fraction(1, 2)"
   ]
  },
  {
   "cell_type": "code",
   "execution_count": 39,
   "id": "cc805161",
   "metadata": {},
   "outputs": [],
   "source": [
    "import decimal as d"
   ]
  },
  {
   "cell_type": "code",
   "execution_count": 41,
   "id": "fd33b2da",
   "metadata": {},
   "outputs": [
    {
     "data": {
      "text/plain": [
       "Decimal('1.44399999999999995026200849679298698902130126953125')"
      ]
     },
     "execution_count": 41,
     "metadata": {},
     "output_type": "execute_result"
    }
   ],
   "source": [
    "d.Decimal(1.444)"
   ]
  },
  {
   "cell_type": "code",
   "execution_count": 42,
   "id": "fafda710",
   "metadata": {},
   "outputs": [
    {
     "data": {
      "text/plain": [
       "{1, 3}"
      ]
     },
     "execution_count": 42,
     "metadata": {},
     "output_type": "execute_result"
    }
   ],
   "source": [
    "{1, 3}"
   ]
  },
  {
   "cell_type": "code",
   "execution_count": 44,
   "id": "88373dac",
   "metadata": {},
   "outputs": [],
   "source": [
    "d = 5"
   ]
  },
  {
   "cell_type": "code",
   "execution_count": 47,
   "id": "6658c3ad",
   "metadata": {},
   "outputs": [],
   "source": [
    "list = 5"
   ]
  },
  {
   "cell_type": "code",
   "execution_count": 48,
   "id": "be8b1a00",
   "metadata": {},
   "outputs": [
    {
     "ename": "SyntaxError",
     "evalue": "invalid syntax (3328338256.py, line 1)",
     "output_type": "error",
     "traceback": [
      "\u001b[1;36m  Cell \u001b[1;32mIn[48], line 1\u001b[1;36m\u001b[0m\n\u001b[1;33m    for = 6\u001b[0m\n\u001b[1;37m        ^\u001b[0m\n\u001b[1;31mSyntaxError\u001b[0m\u001b[1;31m:\u001b[0m invalid syntax\n"
     ]
    }
   ],
   "source": [
    "for = 6"
   ]
  },
  {
   "cell_type": "code",
   "execution_count": 49,
   "id": "a379f577",
   "metadata": {},
   "outputs": [],
   "source": [
    "x = 2"
   ]
  },
  {
   "cell_type": "code",
   "execution_count": 52,
   "id": "c0e98142",
   "metadata": {},
   "outputs": [],
   "source": [
    "di = {'value': 3}"
   ]
  },
  {
   "cell_type": "code",
   "execution_count": 53,
   "id": "0245611c",
   "metadata": {},
   "outputs": [
    {
     "data": {
      "text/plain": [
       "{'value': 3}"
      ]
     },
     "execution_count": 53,
     "metadata": {},
     "output_type": "execute_result"
    }
   ],
   "source": [
    "di"
   ]
  },
  {
   "cell_type": "code",
   "execution_count": 55,
   "id": "3658ec87",
   "metadata": {},
   "outputs": [
    {
     "data": {
      "text/plain": [
       "int"
      ]
     },
     "execution_count": 55,
     "metadata": {},
     "output_type": "execute_result"
    }
   ],
   "source": [
    "type(0o23)"
   ]
  },
  {
   "cell_type": "code",
   "execution_count": 56,
   "id": "7fc73d1e",
   "metadata": {},
   "outputs": [
    {
     "data": {
      "text/plain": [
       "19"
      ]
     },
     "execution_count": 56,
     "metadata": {},
     "output_type": "execute_result"
    }
   ],
   "source": [
    "0o23"
   ]
  },
  {
   "cell_type": "code",
   "execution_count": 59,
   "id": "d957d041",
   "metadata": {},
   "outputs": [
    {
     "data": {
      "text/plain": [
       "'0b10011'"
      ]
     },
     "execution_count": 59,
     "metadata": {},
     "output_type": "execute_result"
    }
   ],
   "source": [
    "bin(19)"
   ]
  },
  {
   "cell_type": "code",
   "execution_count": 61,
   "id": "46b2bf34",
   "metadata": {},
   "outputs": [
    {
     "data": {
      "text/plain": [
       "1"
      ]
     },
     "execution_count": 61,
     "metadata": {},
     "output_type": "execute_result"
    }
   ],
   "source": [
    "5 % 2"
   ]
  },
  {
   "cell_type": "code",
   "execution_count": 62,
   "id": "9969e051",
   "metadata": {},
   "outputs": [
    {
     "data": {
      "text/plain": [
       "2"
      ]
     },
     "execution_count": 62,
     "metadata": {},
     "output_type": "execute_result"
    }
   ],
   "source": [
    "5 // 2"
   ]
  },
  {
   "cell_type": "code",
   "execution_count": 67,
   "id": "da37441a",
   "metadata": {},
   "outputs": [
    {
     "data": {
      "text/plain": [
       "False"
      ]
     },
     "execution_count": 67,
     "metadata": {},
     "output_type": "execute_result"
    }
   ],
   "source": [
    "1 >= 2"
   ]
  },
  {
   "cell_type": "code",
   "execution_count": 68,
   "id": "aa8a30eb",
   "metadata": {},
   "outputs": [
    {
     "data": {
      "text/plain": [
       "False"
      ]
     },
     "execution_count": 68,
     "metadata": {},
     "output_type": "execute_result"
    }
   ],
   "source": [
    "1 == 2"
   ]
  },
  {
   "cell_type": "code",
   "execution_count": 69,
   "id": "deb7f9c9",
   "metadata": {},
   "outputs": [
    {
     "data": {
      "text/plain": [
       "True"
      ]
     },
     "execution_count": 69,
     "metadata": {},
     "output_type": "execute_result"
    }
   ],
   "source": [
    "1 != 2"
   ]
  },
  {
   "cell_type": "code",
   "execution_count": 70,
   "id": "d6fa912a",
   "metadata": {},
   "outputs": [],
   "source": [
    "x -= 4"
   ]
  },
  {
   "cell_type": "code",
   "execution_count": 71,
   "id": "aaf1436e",
   "metadata": {},
   "outputs": [
    {
     "data": {
      "text/plain": [
       "-2"
      ]
     },
     "execution_count": 71,
     "metadata": {},
     "output_type": "execute_result"
    }
   ],
   "source": [
    "x"
   ]
  },
  {
   "cell_type": "code",
   "execution_count": 72,
   "id": "fb4008c1",
   "metadata": {},
   "outputs": [],
   "source": [
    "y *= 8"
   ]
  },
  {
   "cell_type": "code",
   "execution_count": 73,
   "id": "7f12ea06",
   "metadata": {},
   "outputs": [
    {
     "data": {
      "text/plain": [
       "12.0"
      ]
     },
     "execution_count": 73,
     "metadata": {},
     "output_type": "execute_result"
    }
   ],
   "source": [
    "y"
   ]
  },
  {
   "cell_type": "code",
   "execution_count": 74,
   "id": "aa41a21f",
   "metadata": {},
   "outputs": [
    {
     "data": {
      "text/plain": [
       "12.0"
      ]
     },
     "execution_count": 74,
     "metadata": {},
     "output_type": "execute_result"
    }
   ],
   "source": [
    "y"
   ]
  },
  {
   "cell_type": "code",
   "execution_count": 75,
   "id": "872bcdd2",
   "metadata": {},
   "outputs": [],
   "source": [
    "y += 2"
   ]
  },
  {
   "cell_type": "code",
   "execution_count": 76,
   "id": "9fe79f70",
   "metadata": {},
   "outputs": [
    {
     "data": {
      "text/plain": [
       "14.0"
      ]
     },
     "execution_count": 76,
     "metadata": {},
     "output_type": "execute_result"
    }
   ],
   "source": [
    "y"
   ]
  },
  {
   "cell_type": "code",
   "execution_count": 77,
   "id": "bc3731f6",
   "metadata": {},
   "outputs": [
    {
     "data": {
      "text/plain": [
       "False"
      ]
     },
     "execution_count": 77,
     "metadata": {},
     "output_type": "execute_result"
    }
   ],
   "source": [
    " x is y"
   ]
  },
  {
   "cell_type": "code",
   "execution_count": 78,
   "id": "29ccf2e2",
   "metadata": {},
   "outputs": [
    {
     "data": {
      "text/plain": [
       "True"
      ]
     },
     "execution_count": 78,
     "metadata": {},
     "output_type": "execute_result"
    }
   ],
   "source": [
    "x is not y"
   ]
  },
  {
   "cell_type": "code",
   "execution_count": 81,
   "id": "d5571973",
   "metadata": {},
   "outputs": [
    {
     "name": "stderr",
     "output_type": "stream",
     "text": [
      "<>:1: SyntaxWarning: \"is\" with a literal. Did you mean \"==\"?\n",
      "<>:1: SyntaxWarning: \"is\" with a literal. Did you mean \"==\"?\n",
      "C:\\Users\\Surya Charan Teja\\AppData\\Local\\Temp\\ipykernel_8016\\1180083856.py:1: SyntaxWarning: \"is\" with a literal. Did you mean \"==\"?\n",
      "  1 is 2\n"
     ]
    },
    {
     "data": {
      "text/plain": [
       "False"
      ]
     },
     "execution_count": 81,
     "metadata": {},
     "output_type": "execute_result"
    }
   ],
   "source": [
    "1 is 2"
   ]
  },
  {
   "cell_type": "code",
   "execution_count": 82,
   "id": "5a0e8680",
   "metadata": {},
   "outputs": [],
   "source": [
    "x = 1"
   ]
  },
  {
   "cell_type": "code",
   "execution_count": 83,
   "id": "e5cf8c08",
   "metadata": {},
   "outputs": [],
   "source": [
    "y = 1"
   ]
  },
  {
   "cell_type": "code",
   "execution_count": 84,
   "id": "5eef67f7",
   "metadata": {},
   "outputs": [
    {
     "data": {
      "text/plain": [
       "True"
      ]
     },
     "execution_count": 84,
     "metadata": {},
     "output_type": "execute_result"
    }
   ],
   "source": [
    "x is y"
   ]
  },
  {
   "cell_type": "code",
   "execution_count": 85,
   "id": "06c640af",
   "metadata": {},
   "outputs": [
    {
     "data": {
      "text/plain": [
       "False"
      ]
     },
     "execution_count": 85,
     "metadata": {},
     "output_type": "execute_result"
    }
   ],
   "source": [
    "x is not y"
   ]
  },
  {
   "cell_type": "code",
   "execution_count": 88,
   "id": "2e8f343b",
   "metadata": {},
   "outputs": [
    {
     "data": {
      "text/plain": [
       "True"
      ]
     },
     "execution_count": 88,
     "metadata": {},
     "output_type": "execute_result"
    }
   ],
   "source": [
    "5 not in [1, 2, 4]"
   ]
  },
  {
   "cell_type": "code",
   "execution_count": 89,
   "id": "de062851",
   "metadata": {},
   "outputs": [
    {
     "name": "stdout",
     "output_type": "stream",
     "text": [
      "1\n",
      "2\n",
      "3\n"
     ]
    }
   ],
   "source": [
    "for i in [1, 2, 3]:\n",
    "    print(i)"
   ]
  },
  {
   "cell_type": "code",
   "execution_count": null,
   "id": "43f94ffc",
   "metadata": {},
   "outputs": [],
   "source": [
    "x **"
   ]
  }
 ],
 "metadata": {
  "kernelspec": {
   "display_name": "Python 3 (ipykernel)",
   "language": "python",
   "name": "python3"
  },
  "language_info": {
   "codemirror_mode": {
    "name": "ipython",
    "version": 3
   },
   "file_extension": ".py",
   "mimetype": "text/x-python",
   "name": "python",
   "nbconvert_exporter": "python",
   "pygments_lexer": "ipython3",
   "version": "3.11.2"
  }
 },
 "nbformat": 4,
 "nbformat_minor": 5
}
