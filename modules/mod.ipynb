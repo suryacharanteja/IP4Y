{
 "cells": [
  {
   "cell_type": "code",
   "execution_count": 9,
   "id": "74bdcce3",
   "metadata": {},
   "outputs": [],
   "source": [
    "import os"
   ]
  },
  {
   "cell_type": "code",
   "execution_count": 10,
   "id": "a422a1e1",
   "metadata": {},
   "outputs": [
    {
     "data": {
      "text/plain": [
       "'D:\\\\IMLAIC\\\\YouTube\\\\IPYTHON4YOU\\\\Notes\\\\Python\\\\__prac\\\\modules'"
      ]
     },
     "execution_count": 10,
     "metadata": {},
     "output_type": "execute_result"
    }
   ],
   "source": [
    "os.getcwd()"
   ]
  },
  {
   "cell_type": "code",
   "execution_count": 11,
   "id": "5dba5497",
   "metadata": {},
   "outputs": [],
   "source": [
    "import Mathmod"
   ]
  },
  {
   "cell_type": "code",
   "execution_count": 12,
   "id": "9be0d588",
   "metadata": {},
   "outputs": [
    {
     "data": {
      "text/plain": [
       "['__builtins__',\n",
       " '__cached__',\n",
       " '__doc__',\n",
       " '__file__',\n",
       " '__loader__',\n",
       " '__name__',\n",
       " '__package__',\n",
       " '__spec__',\n",
       " 'addition',\n",
       " 'division',\n",
       " 'multiplication',\n",
       " 'power',\n",
       " 'square_root',\n",
       " 'subtraction']"
      ]
     },
     "execution_count": 12,
     "metadata": {},
     "output_type": "execute_result"
    }
   ],
   "source": [
    "dir(Mathmod)"
   ]
  },
  {
   "cell_type": "code",
   "execution_count": 13,
   "id": "11529fc5",
   "metadata": {},
   "outputs": [],
   "source": [
    "import TestMod"
   ]
  },
  {
   "cell_type": "code",
   "execution_count": 14,
   "id": "3c133d45",
   "metadata": {},
   "outputs": [
    {
     "data": {
      "text/plain": [
       "['__builtins__',\n",
       " '__cached__',\n",
       " '__doc__',\n",
       " '__file__',\n",
       " '__loader__',\n",
       " '__name__',\n",
       " '__package__',\n",
       " '__spec__',\n",
       " 'info',\n",
       " 'name',\n",
       " 'type']"
      ]
     },
     "execution_count": 14,
     "metadata": {},
     "output_type": "execute_result"
    }
   ],
   "source": [
    "dir(TestMod)"
   ]
  },
  {
   "cell_type": "code",
   "execution_count": null,
   "id": "33e7c6ac",
   "metadata": {},
   "outputs": [],
   "source": []
  }
 ],
 "metadata": {
  "kernelspec": {
   "display_name": "Python 3 (ipykernel)",
   "language": "python",
   "name": "python3"
  },
  "language_info": {
   "codemirror_mode": {
    "name": "ipython",
    "version": 3
   },
   "file_extension": ".py",
   "mimetype": "text/x-python",
   "name": "python",
   "nbconvert_exporter": "python",
   "pygments_lexer": "ipython3",
   "version": "3.11.2"
  }
 },
 "nbformat": 4,
 "nbformat_minor": 5
}
