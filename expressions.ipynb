{
 "cells": [
  {
   "cell_type": "code",
   "execution_count": 1,
   "id": "b27ad4df",
   "metadata": {},
   "outputs": [
    {
     "ename": "NameError",
     "evalue": "name 'x' is not defined",
     "output_type": "error",
     "traceback": [
      "\u001b[1;31m---------------------------------------------------------------------------\u001b[0m",
      "\u001b[1;31mNameError\u001b[0m                                 Traceback (most recent call last)",
      "Cell \u001b[1;32mIn[1], line 1\u001b[0m\n\u001b[1;32m----> 1\u001b[0m \u001b[43mx\u001b[49m \u001b[38;5;241m*\u001b[39m\u001b[38;5;241m*\u001b[39m \u001b[38;5;241m2\u001b[39m\n",
      "\u001b[1;31mNameError\u001b[0m: name 'x' is not defined"
     ]
    }
   ],
   "source": [
    "x ** 2"
   ]
  },
  {
   "cell_type": "code",
   "execution_count": null,
   "id": "5224a2c3",
   "metadata": {},
   "outputs": [],
   "source": [
    "variable name\n",
    "object \n",
    "operator\n",
    "\n",
    "expression"
   ]
  },
  {
   "cell_type": "markdown",
   "id": "16b6ec08",
   "metadata": {},
   "source": [
    "# shiva"
   ]
  },
  {
   "cell_type": "code",
   "execution_count": null,
   "id": "34bbc2a5",
   "metadata": {},
   "outputs": [],
   "source": []
  },
  {
   "cell_type": "code",
   "execution_count": 26,
   "id": "d5cc496c",
   "metadata": {},
   "outputs": [],
   "source": [
    "x = \"Shiva, AJAY1\""
   ]
  },
  {
   "cell_type": "code",
   "execution_count": 17,
   "id": "e83ccd16",
   "metadata": {},
   "outputs": [
    {
     "data": {
      "text/plain": [
       "'S'"
      ]
     },
     "execution_count": 17,
     "metadata": {},
     "output_type": "execute_result"
    }
   ],
   "source": [
    "x[0]"
   ]
  },
  {
   "cell_type": "code",
   "execution_count": 18,
   "id": "fd8f0556",
   "metadata": {},
   "outputs": [
    {
     "data": {
      "text/plain": [
       "'Shiva, AJAY'"
      ]
     },
     "execution_count": 18,
     "metadata": {},
     "output_type": "execute_result"
    }
   ],
   "source": [
    "x."
   ]
  },
  {
   "cell_type": "code",
   "execution_count": 19,
   "id": "304e451a",
   "metadata": {},
   "outputs": [
    {
     "data": {
      "text/plain": [
       "'sHIVA, ajay'"
      ]
     },
     "execution_count": 19,
     "metadata": {},
     "output_type": "execute_result"
    }
   ],
   "source": [
    "x.swapcase()"
   ]
  },
  {
   "cell_type": "code",
   "execution_count": 21,
   "id": "3a48db63",
   "metadata": {},
   "outputs": [
    {
     "data": {
      "text/plain": [
       "['Shiva,', 'AJAY']"
      ]
     },
     "execution_count": 21,
     "metadata": {},
     "output_type": "execute_result"
    }
   ],
   "source": [
    "x.split()"
   ]
  },
  {
   "cell_type": "code",
   "execution_count": 20,
   "id": "b631cf31",
   "metadata": {},
   "outputs": [],
   "source": [
    "l = [1, 2, 3]"
   ]
  },
  {
   "cell_type": "code",
   "execution_count": 22,
   "id": "3aa293cc",
   "metadata": {},
   "outputs": [],
   "source": [
    "l.append(4)"
   ]
  },
  {
   "cell_type": "code",
   "execution_count": 23,
   "id": "91d0af01",
   "metadata": {},
   "outputs": [
    {
     "data": {
      "text/plain": [
       "[1, 2, 3, 4]"
      ]
     },
     "execution_count": 23,
     "metadata": {},
     "output_type": "execute_result"
    }
   ],
   "source": [
    "l"
   ]
  },
  {
   "cell_type": "code",
   "execution_count": 24,
   "id": "cb6c9053",
   "metadata": {},
   "outputs": [],
   "source": [
    "l.insert(2, 3)"
   ]
  },
  {
   "cell_type": "code",
   "execution_count": 25,
   "id": "f3ad43a7",
   "metadata": {},
   "outputs": [
    {
     "data": {
      "text/plain": [
       "[1, 2, 3, 3, 4]"
      ]
     },
     "execution_count": 25,
     "metadata": {},
     "output_type": "execute_result"
    }
   ],
   "source": [
    "l"
   ]
  },
  {
   "cell_type": "code",
   "execution_count": null,
   "id": "29917d87",
   "metadata": {},
   "outputs": [],
   "source": [
    "l."
   ]
  },
  {
   "cell_type": "code",
   "execution_count": 27,
   "id": "2714c177",
   "metadata": {},
   "outputs": [],
   "source": [
    "s = {1, 2}"
   ]
  },
  {
   "cell_type": "code",
   "execution_count": 28,
   "id": "91f50c73",
   "metadata": {},
   "outputs": [
    {
     "data": {
      "text/plain": [
       "set"
      ]
     },
     "execution_count": 28,
     "metadata": {},
     "output_type": "execute_result"
    }
   ],
   "source": [
    "type(s)"
   ]
  },
  {
   "cell_type": "code",
   "execution_count": 30,
   "id": "e8493a55",
   "metadata": {},
   "outputs": [],
   "source": [
    "s.add(3)"
   ]
  },
  {
   "cell_type": "code",
   "execution_count": 31,
   "id": "54769799",
   "metadata": {},
   "outputs": [
    {
     "data": {
      "text/plain": [
       "{1, 2, 3}"
      ]
     },
     "execution_count": 31,
     "metadata": {},
     "output_type": "execute_result"
    }
   ],
   "source": [
    "s."
   ]
  },
  {
   "cell_type": "code",
   "execution_count": 35,
   "id": "ef80a5d8",
   "metadata": {},
   "outputs": [],
   "source": [
    "x = 1, 2, 3, 4, 5"
   ]
  },
  {
   "cell_type": "code",
   "execution_count": 36,
   "id": "b6673846",
   "metadata": {},
   "outputs": [
    {
     "data": {
      "text/plain": [
       "(1, 2, 3, 4, 5)"
      ]
     },
     "execution_count": 36,
     "metadata": {},
     "output_type": "execute_result"
    }
   ],
   "source": [
    "x"
   ]
  },
  {
   "cell_type": "code",
   "execution_count": 37,
   "id": "dc4b3c87",
   "metadata": {},
   "outputs": [
    {
     "data": {
      "text/plain": [
       "tuple"
      ]
     },
     "execution_count": 37,
     "metadata": {},
     "output_type": "execute_result"
    }
   ],
   "source": [
    "type(x)"
   ]
  },
  {
   "cell_type": "code",
   "execution_count": 41,
   "id": "6029731a",
   "metadata": {},
   "outputs": [
    {
     "name": "stdout",
     "output_type": "stream",
     "text": [
      "Kala\\Bhairava\n"
     ]
    }
   ],
   "source": [
    "print(\"Kala\\\\Bhairava\")"
   ]
  },
  {
   "cell_type": "code",
   "execution_count": 42,
   "id": "e6faeee2",
   "metadata": {},
   "outputs": [
    {
     "data": {
      "text/plain": [
       "'hare krishnahare krishnahare krishnahare krishnahare krishnahare krishnahare krishnahare krishnahare krishnahare krishnahare krishnahare krishnahare krishnahare krishnahare krishnahare krishnahare krishnahare krishnahare krishnahare krishnahare krishnahare krishnahare krishnahare krishnahare krishnahare krishnahare krishnahare krishnahare krishnahare krishnahare krishnahare krishnahare krishnahare krishnahare krishnahare krishnahare krishnahare krishnahare krishnahare krishnahare krishnahare krishnahare krishnahare krishnahare krishnahare krishnahare krishnahare krishnahare krishnahare krishnahare krishnahare krishnahare krishnahare krishnahare krishnahare krishnahare krishnahare krishnahare krishnahare krishnahare krishnahare krishnahare krishnahare krishnahare krishnahare krishnahare krishnahare krishnahare krishnahare krishnahare krishnahare krishnahare krishnahare krishnahare krishnahare krishnahare krishnahare krishnahare krishnahare krishnahare krishnahare krishnahare krishnahare krishnahare krishnahare krishnahare krishnahare krishnahare krishnahare krishnahare krishnahare krishnahare krishnahare krishnahare krishnahare krishnahare krishnahare krishnahare krishnahare krishnahare krishnahare krishnahare krishnahare krishnahare krishnahare krishnahare krishnahare krishna'"
      ]
     },
     "execution_count": 42,
     "metadata": {},
     "output_type": "execute_result"
    }
   ],
   "source": [
    "\"hare krishna\" * 108"
   ]
  },
  {
   "cell_type": "code",
   "execution_count": 51,
   "id": "4ab416f2",
   "metadata": {},
   "outputs": [
    {
     "data": {
      "text/plain": [
       "\"['c', 'd', 'd'] got ['c', 'd', 'd'] marks\""
      ]
     },
     "execution_count": 51,
     "metadata": {},
     "output_type": "execute_result"
    }
   ],
   "source": [
    "\"{} got {} marks\".format(x, x)"
   ]
  },
  {
   "cell_type": "code",
   "execution_count": 54,
   "id": "6ab3e2fe",
   "metadata": {},
   "outputs": [],
   "source": [
    "name = ['c', 'd', 'e']\n"
   ]
  },
  {
   "cell_type": "code",
   "execution_count": 57,
   "id": "d8d6ce5e",
   "metadata": {},
   "outputs": [
    {
     "name": "stdout",
     "output_type": "stream",
     "text": [
      "Hello to c\n",
      "Hello to d\n",
      "Hello to e\n"
     ]
    }
   ],
   "source": [
    "for i in name:\n",
    "    print(\"Hello to {}\".format(i))"
   ]
  },
  {
   "cell_type": "code",
   "execution_count": 58,
   "id": "6b6f575d",
   "metadata": {},
   "outputs": [],
   "source": [
    "x = \"Rahul\""
   ]
  },
  {
   "cell_type": "code",
   "execution_count": 60,
   "id": "f7531f22",
   "metadata": {},
   "outputs": [
    {
     "data": {
      "text/plain": [
       "'Rah'"
      ]
     },
     "execution_count": 60,
     "metadata": {},
     "output_type": "execute_result"
    }
   ],
   "source": [
    "x[0:3]"
   ]
  },
  {
   "cell_type": "code",
   "execution_count": 61,
   "id": "a917d991",
   "metadata": {},
   "outputs": [
    {
     "data": {
      "text/plain": [
       "'Rahu'"
      ]
     },
     "execution_count": 61,
     "metadata": {},
     "output_type": "execute_result"
    }
   ],
   "source": [
    "x[0:4]"
   ]
  },
  {
   "cell_type": "code",
   "execution_count": 62,
   "id": "77a0c44e",
   "metadata": {},
   "outputs": [],
   "source": [
    "y = \"thisismespeakingtothemewhichisresidinginmewhichresidesas\""
   ]
  },
  {
   "cell_type": "code",
   "execution_count": 63,
   "id": "75657d23",
   "metadata": {},
   "outputs": [
    {
     "data": {
      "text/plain": [
       "'thisismespeakingtothemewhichisresidinginmewhichresidesas'"
      ]
     },
     "execution_count": 63,
     "metadata": {},
     "output_type": "execute_result"
    }
   ],
   "source": [
    "y"
   ]
  },
  {
   "cell_type": "code",
   "execution_count": 64,
   "id": "6545ae27",
   "metadata": {},
   "outputs": [
    {
     "data": {
      "text/plain": [
       "'tiimsekntteehcirsdnimwiheiea'"
      ]
     },
     "execution_count": 64,
     "metadata": {},
     "output_type": "execute_result"
    }
   ],
   "source": [
    "y[::2]"
   ]
  },
  {
   "cell_type": "code",
   "execution_count": 70,
   "id": "d943f478",
   "metadata": {},
   "outputs": [],
   "source": [
    "z = \"djd   ajdjj   ajdjj   ajdjdj\""
   ]
  },
  {
   "cell_type": "code",
   "execution_count": 73,
   "id": "320c5dcf",
   "metadata": {},
   "outputs": [
    {
     "data": {
      "text/plain": [
       "'djd   ajdjj   ajdjj   ajdjdj'"
      ]
     },
     "execution_count": 73,
     "metadata": {},
     "output_type": "execute_result"
    }
   ],
   "source": [
    "z.expandtabs(5)"
   ]
  },
  {
   "cell_type": "code",
   "execution_count": 76,
   "id": "32230e4d",
   "metadata": {},
   "outputs": [
    {
     "data": {
      "text/plain": [
       "False"
      ]
     },
     "execution_count": 76,
     "metadata": {},
     "output_type": "execute_result"
    }
   ],
   "source": [
    "y.isnumeric()"
   ]
  },
  {
   "cell_type": "code",
   "execution_count": 3,
   "id": "b05b4492",
   "metadata": {},
   "outputs": [],
   "source": [
    "def f(x, y):\n",
    "    z = x + y\n",
    "    return z"
   ]
  },
  {
   "cell_type": "code",
   "execution_count": 4,
   "id": "01d78fa2",
   "metadata": {},
   "outputs": [],
   "source": [
    "def f1(x, y):\n",
    "    z = x + y\n",
    "    yield z"
   ]
  },
  {
   "cell_type": "code",
   "execution_count": 12,
   "id": "590831e5",
   "metadata": {},
   "outputs": [
    {
     "data": {
      "text/plain": [
       "int"
      ]
     },
     "execution_count": 12,
     "metadata": {},
     "output_type": "execute_result"
    }
   ],
   "source": [
    "type(f(2, 3))"
   ]
  },
  {
   "cell_type": "code",
   "execution_count": 13,
   "id": "9af33f68",
   "metadata": {},
   "outputs": [
    {
     "data": {
      "text/plain": [
       "generator"
      ]
     },
     "execution_count": 13,
     "metadata": {},
     "output_type": "execute_result"
    }
   ],
   "source": [
    "type(f1(2, 3))"
   ]
  },
  {
   "cell_type": "code",
   "execution_count": 11,
   "id": "a47be970",
   "metadata": {},
   "outputs": [
    {
     "data": {
      "text/plain": [
       "[5]"
      ]
     },
     "execution_count": 11,
     "metadata": {},
     "output_type": "execute_result"
    }
   ],
   "source": [
    "list(f1(2, 3))"
   ]
  },
  {
   "cell_type": "code",
   "execution_count": 15,
   "id": "87c11279",
   "metadata": {},
   "outputs": [
    {
     "name": "stdout",
     "output_type": "stream",
     "text": [
      "18\n"
     ]
    }
   ],
   "source": [
    "addition = lambda x, y: x + y\n",
    "\n",
    "result = addition(15, 3)\n",
    "print(result)  # Output: 8\n"
   ]
  },
  {
   "cell_type": "code",
   "execution_count": 16,
   "id": "b968ac59",
   "metadata": {},
   "outputs": [
    {
     "name": "stdout",
     "output_type": "stream",
     "text": [
      "[1, 4, 9, 16, 25]\n"
     ]
    }
   ],
   "source": [
    "numbers = [1, 2, 3, 4, 5]\n",
    "squares = map(lambda x: x**2, numbers)\n",
    "\n",
    "print(list(squares))  # Output: [1, 4, 9, 16, 25]\n"
   ]
  },
  {
   "cell_type": "code",
   "execution_count": 17,
   "id": "55be702b",
   "metadata": {},
   "outputs": [],
   "source": [
    "X = 1\n",
    "Y = 2"
   ]
  },
  {
   "cell_type": "code",
   "execution_count": 18,
   "id": "f3c3e07f",
   "metadata": {},
   "outputs": [
    {
     "data": {
      "text/plain": [
       "False"
      ]
     },
     "execution_count": 18,
     "metadata": {},
     "output_type": "execute_result"
    }
   ],
   "source": [
    "X == Y"
   ]
  },
  {
   "cell_type": "code",
   "execution_count": 19,
   "id": "a27de5ae",
   "metadata": {},
   "outputs": [
    {
     "data": {
      "text/plain": [
       "False"
      ]
     },
     "execution_count": 19,
     "metadata": {},
     "output_type": "execute_result"
    }
   ],
   "source": [
    "1 == 2"
   ]
  },
  {
   "cell_type": "code",
   "execution_count": 20,
   "id": "6e0ebc94",
   "metadata": {},
   "outputs": [
    {
     "name": "stderr",
     "output_type": "stream",
     "text": [
      "<>:1: SyntaxWarning: \"is\" with a literal. Did you mean \"==\"?\n",
      "<>:1: SyntaxWarning: \"is\" with a literal. Did you mean \"==\"?\n",
      "C:\\Users\\Surya Charan Teja\\AppData\\Local\\Temp\\ipykernel_10728\\1180083856.py:1: SyntaxWarning: \"is\" with a literal. Did you mean \"==\"?\n",
      "  1 is 2\n"
     ]
    },
    {
     "data": {
      "text/plain": [
       "False"
      ]
     },
     "execution_count": 20,
     "metadata": {},
     "output_type": "execute_result"
    }
   ],
   "source": [
    "1 is 2"
   ]
  },
  {
   "cell_type": "code",
   "execution_count": 21,
   "id": "e61909a5",
   "metadata": {},
   "outputs": [
    {
     "data": {
      "text/plain": [
       "True"
      ]
     },
     "execution_count": 21,
     "metadata": {},
     "output_type": "execute_result"
    }
   ],
   "source": [
    "X is not Y"
   ]
  },
  {
   "cell_type": "code",
   "execution_count": 24,
   "id": "435300d9",
   "metadata": {},
   "outputs": [
    {
     "data": {
      "text/plain": [
       "'rahulrahulrahulrahulrahul'"
      ]
     },
     "execution_count": 24,
     "metadata": {},
     "output_type": "execute_result"
    }
   ],
   "source": [
    "\"rahul\" * 5"
   ]
  },
  {
   "cell_type": "code",
   "execution_count": 26,
   "id": "7d86dcbc",
   "metadata": {},
   "outputs": [
    {
     "data": {
      "text/plain": [
       "\"In this example, we define a lambda function called addition that takes two arguments x and y, and returns their sum x + y. We then call the lambda function with the values 5 and 3, and store the result in a variable called result. Finally, we print the value of result, which is 8.Lambda functions can be used wherever function objects are required, such as in higher-order functions that take functions as arguments, like map(), filter(), and reduce(). Here's an example of using a lambda function with map() to square each element in a list:\""
      ]
     },
     "execution_count": 26,
     "metadata": {},
     "output_type": "execute_result"
    }
   ],
   "source": [
    "\"In this example, we define a lambda function called addition that takes two arguments x and y, and returns their sum x + y. We then call the lambda function with the values 5 and 3, and store the result in a variable called result. Finally, we print the value of result, which is 8.Lambda functions can be used wherever function objects are required, such as in higher-order functions that take functions as arguments, like map(), filter(), and reduce(). Here's an example of using a lambda function with map() to square each element in a list:\""
   ]
  },
  {
   "cell_type": "code",
   "execution_count": 29,
   "id": "17b2d589",
   "metadata": {},
   "outputs": [
    {
     "name": "stdout",
     "output_type": "stream",
     "text": [
      "In this example, we define a lambda function \n",
      "called addition that takes two arguments x and y, \n",
      "and returns their sum x + y. \n",
      "We then call the lambda function with the values 5 and 3, and \n",
      "store the result in a variable called result. Finally, we print the value of result, which is 8.\n",
      "\n",
      "Lambda functions can be used wherever function objects are required, \n",
      "such as in higher-order functions that take functions as arguments, \n",
      "like map(), filter(), and reduce(). Here's an example of using a \n",
      "lambda function with map() to square each element in a list:\n"
     ]
    }
   ],
   "source": [
    "print('''In this example, we define a lambda function \n",
    "called addition that takes two arguments x and y, \n",
    "and returns their sum x + y. \n",
    "We then call the lambda function with the values 5 and 3, and \n",
    "store the result in a variable called result. Finally, we print the value of result, which is 8.\n",
    "\n",
    "Lambda functions can be used wherever function objects are required, \n",
    "such as in higher-order functions that take functions as arguments, \n",
    "like map(), filter(), and reduce(). Here's an example of using a \n",
    "lambda function with map() to square each element in a list:''')"
   ]
  },
  {
   "cell_type": "code",
   "execution_count": 30,
   "id": "af798298",
   "metadata": {},
   "outputs": [],
   "source": [
    "import sys"
   ]
  },
  {
   "cell_type": "code",
   "execution_count": 31,
   "id": "7c55e183",
   "metadata": {},
   "outputs": [
    {
     "data": {
      "text/plain": [
       "['__breakpointhook__',\n",
       " '__displayhook__',\n",
       " '__doc__',\n",
       " '__excepthook__',\n",
       " '__interactivehook__',\n",
       " '__loader__',\n",
       " '__name__',\n",
       " '__package__',\n",
       " '__spec__',\n",
       " '__stderr__',\n",
       " '__stdin__',\n",
       " '__stdout__',\n",
       " '__unraisablehook__',\n",
       " '_base_executable',\n",
       " '_clear_type_cache',\n",
       " '_current_exceptions',\n",
       " '_current_frames',\n",
       " '_debugmallocstats',\n",
       " '_enablelegacywindowsfsencoding',\n",
       " '_framework',\n",
       " '_getframe',\n",
       " '_getquickenedcount',\n",
       " '_git',\n",
       " '_home',\n",
       " '_stdlib_dir',\n",
       " '_vpath',\n",
       " '_xoptions',\n",
       " 'addaudithook',\n",
       " 'api_version',\n",
       " 'argv',\n",
       " 'audit',\n",
       " 'base_exec_prefix',\n",
       " 'base_prefix',\n",
       " 'breakpointhook',\n",
       " 'builtin_module_names',\n",
       " 'byteorder',\n",
       " 'call_tracing',\n",
       " 'copyright',\n",
       " 'displayhook',\n",
       " 'dllhandle',\n",
       " 'dont_write_bytecode',\n",
       " 'exc_info',\n",
       " 'excepthook',\n",
       " 'exception',\n",
       " 'exec_prefix',\n",
       " 'executable',\n",
       " 'exit',\n",
       " 'flags',\n",
       " 'float_info',\n",
       " 'float_repr_style',\n",
       " 'get_asyncgen_hooks',\n",
       " 'get_coroutine_origin_tracking_depth',\n",
       " 'get_int_max_str_digits',\n",
       " 'getallocatedblocks',\n",
       " 'getdefaultencoding',\n",
       " 'getfilesystemencodeerrors',\n",
       " 'getfilesystemencoding',\n",
       " 'getprofile',\n",
       " 'getrecursionlimit',\n",
       " 'getrefcount',\n",
       " 'getsizeof',\n",
       " 'getswitchinterval',\n",
       " 'gettrace',\n",
       " 'getwindowsversion',\n",
       " 'hash_info',\n",
       " 'hexversion',\n",
       " 'implementation',\n",
       " 'int_info',\n",
       " 'intern',\n",
       " 'is_finalizing',\n",
       " 'last_traceback',\n",
       " 'last_type',\n",
       " 'last_value',\n",
       " 'maxsize',\n",
       " 'maxunicode',\n",
       " 'meta_path',\n",
       " 'modules',\n",
       " 'orig_argv',\n",
       " 'path',\n",
       " 'path_hooks',\n",
       " 'path_importer_cache',\n",
       " 'platform',\n",
       " 'platlibdir',\n",
       " 'prefix',\n",
       " 'ps1',\n",
       " 'ps2',\n",
       " 'ps3',\n",
       " 'pycache_prefix',\n",
       " 'set_asyncgen_hooks',\n",
       " 'set_coroutine_origin_tracking_depth',\n",
       " 'set_int_max_str_digits',\n",
       " 'setprofile',\n",
       " 'setrecursionlimit',\n",
       " 'setswitchinterval',\n",
       " 'settrace',\n",
       " 'stderr',\n",
       " 'stdin',\n",
       " 'stdlib_module_names',\n",
       " 'stdout',\n",
       " 'thread_info',\n",
       " 'unraisablehook',\n",
       " 'version',\n",
       " 'version_info',\n",
       " 'warnoptions',\n",
       " 'winver']"
      ]
     },
     "execution_count": 31,
     "metadata": {},
     "output_type": "execute_result"
    }
   ],
   "source": [
    "dir(sys)"
   ]
  },
  {
   "cell_type": "code",
   "execution_count": 32,
   "id": "90d837cf",
   "metadata": {},
   "outputs": [],
   "source": [
    "import os"
   ]
  },
  {
   "cell_type": "code",
   "execution_count": 33,
   "id": "1876f707",
   "metadata": {},
   "outputs": [
    {
     "data": {
      "text/plain": [
       "['DirEntry',\n",
       " 'EX_OK',\n",
       " 'F_OK',\n",
       " 'GenericAlias',\n",
       " 'Mapping',\n",
       " 'MutableMapping',\n",
       " 'O_APPEND',\n",
       " 'O_BINARY',\n",
       " 'O_CREAT',\n",
       " 'O_EXCL',\n",
       " 'O_NOINHERIT',\n",
       " 'O_RANDOM',\n",
       " 'O_RDONLY',\n",
       " 'O_RDWR',\n",
       " 'O_SEQUENTIAL',\n",
       " 'O_SHORT_LIVED',\n",
       " 'O_TEMPORARY',\n",
       " 'O_TEXT',\n",
       " 'O_TRUNC',\n",
       " 'O_WRONLY',\n",
       " 'P_DETACH',\n",
       " 'P_NOWAIT',\n",
       " 'P_NOWAITO',\n",
       " 'P_OVERLAY',\n",
       " 'P_WAIT',\n",
       " 'PathLike',\n",
       " 'R_OK',\n",
       " 'SEEK_CUR',\n",
       " 'SEEK_END',\n",
       " 'SEEK_SET',\n",
       " 'TMP_MAX',\n",
       " 'W_OK',\n",
       " 'X_OK',\n",
       " '_AddedDllDirectory',\n",
       " '_Environ',\n",
       " '__all__',\n",
       " '__builtins__',\n",
       " '__doc__',\n",
       " '__file__',\n",
       " '__loader__',\n",
       " '__name__',\n",
       " '__package__',\n",
       " '__spec__',\n",
       " '_check_methods',\n",
       " '_execvpe',\n",
       " '_exists',\n",
       " '_exit',\n",
       " '_fspath',\n",
       " '_get_exports_list',\n",
       " '_walk',\n",
       " '_wrap_close',\n",
       " 'abc',\n",
       " 'abort',\n",
       " 'access',\n",
       " 'add_dll_directory',\n",
       " 'altsep',\n",
       " 'chdir',\n",
       " 'chmod',\n",
       " 'close',\n",
       " 'closerange',\n",
       " 'cpu_count',\n",
       " 'curdir',\n",
       " 'defpath',\n",
       " 'device_encoding',\n",
       " 'devnull',\n",
       " 'dup',\n",
       " 'dup2',\n",
       " 'environ',\n",
       " 'error',\n",
       " 'execl',\n",
       " 'execle',\n",
       " 'execlp',\n",
       " 'execlpe',\n",
       " 'execv',\n",
       " 'execve',\n",
       " 'execvp',\n",
       " 'execvpe',\n",
       " 'extsep',\n",
       " 'fdopen',\n",
       " 'fsdecode',\n",
       " 'fsencode',\n",
       " 'fspath',\n",
       " 'fstat',\n",
       " 'fsync',\n",
       " 'ftruncate',\n",
       " 'get_exec_path',\n",
       " 'get_handle_inheritable',\n",
       " 'get_inheritable',\n",
       " 'get_terminal_size',\n",
       " 'getcwd',\n",
       " 'getcwdb',\n",
       " 'getenv',\n",
       " 'getlogin',\n",
       " 'getpid',\n",
       " 'getppid',\n",
       " 'isatty',\n",
       " 'kill',\n",
       " 'linesep',\n",
       " 'link',\n",
       " 'listdir',\n",
       " 'lseek',\n",
       " 'lstat',\n",
       " 'makedirs',\n",
       " 'mkdir',\n",
       " 'name',\n",
       " 'open',\n",
       " 'pardir',\n",
       " 'path',\n",
       " 'pathsep',\n",
       " 'pipe',\n",
       " 'popen',\n",
       " 'putenv',\n",
       " 'read',\n",
       " 'readlink',\n",
       " 'remove',\n",
       " 'removedirs',\n",
       " 'rename',\n",
       " 'renames',\n",
       " 'replace',\n",
       " 'rmdir',\n",
       " 'scandir',\n",
       " 'sep',\n",
       " 'set_handle_inheritable',\n",
       " 'set_inheritable',\n",
       " 'spawnl',\n",
       " 'spawnle',\n",
       " 'spawnv',\n",
       " 'spawnve',\n",
       " 'st',\n",
       " 'startfile',\n",
       " 'stat',\n",
       " 'stat_result',\n",
       " 'statvfs_result',\n",
       " 'strerror',\n",
       " 'supports_bytes_environ',\n",
       " 'supports_dir_fd',\n",
       " 'supports_effective_ids',\n",
       " 'supports_fd',\n",
       " 'supports_follow_symlinks',\n",
       " 'symlink',\n",
       " 'sys',\n",
       " 'system',\n",
       " 'terminal_size',\n",
       " 'times',\n",
       " 'times_result',\n",
       " 'truncate',\n",
       " 'umask',\n",
       " 'uname_result',\n",
       " 'unlink',\n",
       " 'unsetenv',\n",
       " 'urandom',\n",
       " 'utime',\n",
       " 'waitpid',\n",
       " 'waitstatus_to_exitcode',\n",
       " 'walk',\n",
       " 'write']"
      ]
     },
     "execution_count": 33,
     "metadata": {},
     "output_type": "execute_result"
    }
   ],
   "source": [
    "dir(os)"
   ]
  },
  {
   "cell_type": "code",
   "execution_count": 47,
   "id": "23db7f44",
   "metadata": {},
   "outputs": [],
   "source": [
    "import os"
   ]
  },
  {
   "cell_type": "code",
   "execution_count": 48,
   "id": "0d8b1ea2",
   "metadata": {},
   "outputs": [
    {
     "data": {
      "text/plain": [
       "['.ipynb_checkpoints', 'expressions.ipynb', 'file.txt', 'objects.ipynb']"
      ]
     },
     "execution_count": 48,
     "metadata": {},
     "output_type": "execute_result"
    }
   ],
   "source": [
    "os.listdir()"
   ]
  },
  {
   "cell_type": "code",
   "execution_count": 49,
   "id": "6fe73bc8",
   "metadata": {},
   "outputs": [
    {
     "data": {
      "text/plain": [
       "'D:\\\\IMLAIC\\\\YouTube\\\\IPYTHON4YOU\\\\Notes\\\\Python\\\\__prac'"
      ]
     },
     "execution_count": 49,
     "metadata": {},
     "output_type": "execute_result"
    }
   ],
   "source": [
    "os.getcwd()"
   ]
  },
  {
   "cell_type": "code",
   "execution_count": 51,
   "id": "4df2f2b4",
   "metadata": {},
   "outputs": [],
   "source": [
    "os.mkdir(r\"D:\\IMLAIC\\YouTube\\IPYTHON4YOU\\Notes\\Python\\__prac\\sample1\")"
   ]
  },
  {
   "cell_type": "code",
   "execution_count": 52,
   "id": "11b44ad7",
   "metadata": {},
   "outputs": [],
   "source": [
    "os.mkdir('D:\\\\IMLAIC\\\\YouTube\\\\IPYTHON4YOU\\\\Notes\\\\Python\\\\__prac\\\\sample2')"
   ]
  },
  {
   "cell_type": "code",
   "execution_count": 53,
   "id": "ece115c7",
   "metadata": {},
   "outputs": [],
   "source": [
    "l = [2, \"A\", [2, 1], 2.8, (2, 1), 'B']"
   ]
  },
  {
   "cell_type": "code",
   "execution_count": 54,
   "id": "b85e51fc",
   "metadata": {},
   "outputs": [
    {
     "data": {
      "text/plain": [
       "[2, 'A', [2, 1]]"
      ]
     },
     "execution_count": 54,
     "metadata": {},
     "output_type": "execute_result"
    }
   ],
   "source": [
    "l[0:3]"
   ]
  },
  {
   "cell_type": "code",
   "execution_count": 60,
   "id": "23e0313c",
   "metadata": {},
   "outputs": [
    {
     "data": {
      "text/plain": [
       "[2, 'A', [2, 1]]"
      ]
     },
     "execution_count": 60,
     "metadata": {},
     "output_type": "execute_result"
    }
   ],
   "source": [
    "l[-6:-3]"
   ]
  },
  {
   "cell_type": "code",
   "execution_count": 63,
   "id": "334cc153",
   "metadata": {},
   "outputs": [
    {
     "data": {
      "text/plain": [
       "['B', (2, 1), 2.8, [2, 1], 'A', 2]"
      ]
     },
     "execution_count": 63,
     "metadata": {},
     "output_type": "execute_result"
    }
   ],
   "source": [
    "l[::-1]"
   ]
  },
  {
   "cell_type": "code",
   "execution_count": 64,
   "id": "b578f30a",
   "metadata": {},
   "outputs": [
    {
     "data": {
      "text/plain": [
       "[2, 'A', [2, 1], 2.8, (2, 1), 'B']"
      ]
     },
     "execution_count": 64,
     "metadata": {},
     "output_type": "execute_result"
    }
   ],
   "source": [
    "l"
   ]
  },
  {
   "cell_type": "code",
   "execution_count": 65,
   "id": "a9123f71",
   "metadata": {},
   "outputs": [
    {
     "name": "stdout",
     "output_type": "stream",
     "text": [
      "2\n",
      "A\n",
      "[2, 1]\n",
      "2.8\n",
      "(2, 1)\n",
      "B\n"
     ]
    }
   ],
   "source": [
    "for i in l:\n",
    "    print(i)"
   ]
  },
  {
   "cell_type": "code",
   "execution_count": 66,
   "id": "4b4d5e9e",
   "metadata": {},
   "outputs": [
    {
     "data": {
      "text/plain": [
       "[2, 'A', [2, 1], 2.8, (2, 1), 'B']"
      ]
     },
     "execution_count": 66,
     "metadata": {},
     "output_type": "execute_result"
    }
   ],
   "source": [
    "[i for i in l]"
   ]
  },
  {
   "cell_type": "code",
   "execution_count": 68,
   "id": "edaf2e57",
   "metadata": {},
   "outputs": [],
   "source": [
    "l = list(range(10))"
   ]
  },
  {
   "cell_type": "code",
   "execution_count": 69,
   "id": "cdeeca19",
   "metadata": {},
   "outputs": [
    {
     "data": {
      "text/plain": [
       "[0, 1, 2, 3, 4, 5, 6, 7, 8, 9]"
      ]
     },
     "execution_count": 69,
     "metadata": {},
     "output_type": "execute_result"
    }
   ],
   "source": [
    "l"
   ]
  },
  {
   "cell_type": "code",
   "execution_count": 151,
   "id": "d6a49f0d",
   "metadata": {},
   "outputs": [],
   "source": [
    "l1 = [i**2 for i in l]"
   ]
  },
  {
   "cell_type": "code",
   "execution_count": 152,
   "id": "294bcbbf",
   "metadata": {},
   "outputs": [
    {
     "name": "stdout",
     "output_type": "stream",
     "text": [
      "[0, 1, 4, 9, 16, 25, 36, 49, 64, 81]\n"
     ]
    }
   ],
   "source": [
    "print(l1)"
   ]
  },
  {
   "cell_type": "code",
   "execution_count": 157,
   "id": "8aacfcb5",
   "metadata": {},
   "outputs": [],
   "source": [
    "x = l1.copy()"
   ]
  },
  {
   "cell_type": "code",
   "execution_count": 158,
   "id": "e1963e13",
   "metadata": {},
   "outputs": [
    {
     "name": "stdout",
     "output_type": "stream",
     "text": [
      "[0, 1, 4, 9, 16, 25, 36, 49, 64, 81]\n"
     ]
    }
   ],
   "source": [
    "x = []\n",
    "for i in l:\n",
    "    j = i ** 2\n",
    "    x.append(j)\n",
    "print(x)\n"
   ]
  },
  {
   "cell_type": "code",
   "execution_count": 159,
   "id": "151e9d89",
   "metadata": {},
   "outputs": [],
   "source": [
    "\n",
    "# "
   ]
  },
  {
   "cell_type": "code",
   "execution_count": 163,
   "id": "422dcfe1",
   "metadata": {},
   "outputs": [],
   "source": [
    "x.reverse()"
   ]
  },
  {
   "cell_type": "code",
   "execution_count": 166,
   "id": "f8f2c562",
   "metadata": {},
   "outputs": [],
   "source": [
    "x.sort()"
   ]
  },
  {
   "cell_type": "code",
   "execution_count": 167,
   "id": "602c17a1",
   "metadata": {},
   "outputs": [
    {
     "data": {
      "text/plain": [
       "[0, 1, 4, 9, 16, 25, 36, 49, 64, 81]"
      ]
     },
     "execution_count": 167,
     "metadata": {},
     "output_type": "execute_result"
    }
   ],
   "source": [
    "x"
   ]
  },
  {
   "cell_type": "markdown",
   "id": "4863e958",
   "metadata": {},
   "source": [
    "# dict"
   ]
  },
  {
   "cell_type": "code",
   "execution_count": 174,
   "id": "eddfe7f8",
   "metadata": {},
   "outputs": [],
   "source": [
    "x = 'RahulR'"
   ]
  },
  {
   "cell_type": "code",
   "execution_count": 183,
   "id": "d29d4b42",
   "metadata": {},
   "outputs": [],
   "source": [
    "y = list(range(5))"
   ]
  },
  {
   "cell_type": "code",
   "execution_count": 185,
   "id": "b8d44bbc",
   "metadata": {},
   "outputs": [],
   "source": [
    "y.extend([1, 2])"
   ]
  },
  {
   "cell_type": "code",
   "execution_count": 193,
   "id": "8de0ee27",
   "metadata": {},
   "outputs": [],
   "source": [
    "y = [0, 1, 2, 3, 4, [1, 2]]"
   ]
  },
  {
   "cell_type": "code",
   "execution_count": 194,
   "id": "cf269204",
   "metadata": {},
   "outputs": [],
   "source": [
    "z = dict(zip(x,y))"
   ]
  },
  {
   "cell_type": "code",
   "execution_count": 195,
   "id": "04da1cdc",
   "metadata": {},
   "outputs": [
    {
     "data": {
      "text/plain": [
       "{'R': [1, 2], 'a': 1, 'h': 2, 'u': 3, 'l': 4}"
      ]
     },
     "execution_count": 195,
     "metadata": {},
     "output_type": "execute_result"
    }
   ],
   "source": [
    "z"
   ]
  },
  {
   "cell_type": "code",
   "execution_count": 196,
   "id": "e18ff5a8",
   "metadata": {},
   "outputs": [
    {
     "data": {
      "text/plain": [
       "1"
      ]
     },
     "execution_count": 196,
     "metadata": {},
     "output_type": "execute_result"
    }
   ],
   "source": [
    "z['a']"
   ]
  },
  {
   "cell_type": "code",
   "execution_count": 197,
   "id": "8d515168",
   "metadata": {},
   "outputs": [
    {
     "data": {
      "text/plain": [
       "3"
      ]
     },
     "execution_count": 197,
     "metadata": {},
     "output_type": "execute_result"
    }
   ],
   "source": [
    "z['u']"
   ]
  },
  {
   "cell_type": "code",
   "execution_count": 198,
   "id": "0a40680c",
   "metadata": {},
   "outputs": [
    {
     "data": {
      "text/plain": [
       "2"
      ]
     },
     "execution_count": 198,
     "metadata": {},
     "output_type": "execute_result"
    }
   ],
   "source": [
    "z['R'][1]"
   ]
  },
  {
   "cell_type": "code",
   "execution_count": 199,
   "id": "e0ec83e0",
   "metadata": {},
   "outputs": [
    {
     "data": {
      "text/plain": [
       "5"
      ]
     },
     "execution_count": 199,
     "metadata": {},
     "output_type": "execute_result"
    }
   ],
   "source": [
    "len(z)"
   ]
  },
  {
   "cell_type": "code",
   "execution_count": 200,
   "id": "2150a55a",
   "metadata": {},
   "outputs": [
    {
     "data": {
      "text/plain": [
       "True"
      ]
     },
     "execution_count": 200,
     "metadata": {},
     "output_type": "execute_result"
    }
   ],
   "source": [
    "'R' in z"
   ]
  },
  {
   "cell_type": "code",
   "execution_count": 201,
   "id": "53364753",
   "metadata": {},
   "outputs": [],
   "source": [
    "z['u'] = 24740974057257"
   ]
  },
  {
   "cell_type": "code",
   "execution_count": 202,
   "id": "e856a130",
   "metadata": {},
   "outputs": [
    {
     "data": {
      "text/plain": [
       "{'R': [1, 2], 'a': 1, 'h': 2, 'u': 24740974057257, 'l': 4}"
      ]
     },
     "execution_count": 202,
     "metadata": {},
     "output_type": "execute_result"
    }
   ],
   "source": [
    "z"
   ]
  },
  {
   "cell_type": "code",
   "execution_count": 207,
   "id": "2df3572c",
   "metadata": {},
   "outputs": [],
   "source": [
    "d = dict(zip(x, y))"
   ]
  },
  {
   "cell_type": "code",
   "execution_count": 208,
   "id": "e4882e17",
   "metadata": {},
   "outputs": [
    {
     "data": {
      "text/plain": [
       "{'R': [1, 2], 'a': 1, 'h': 2, 'u': 3, 'l': 4}"
      ]
     },
     "execution_count": 208,
     "metadata": {},
     "output_type": "execute_result"
    }
   ],
   "source": [
    "d"
   ]
  },
  {
   "cell_type": "code",
   "execution_count": 209,
   "id": "aa49ea6e",
   "metadata": {},
   "outputs": [],
   "source": [
    "v = {k: v for (k, v) in zip(x, y) }"
   ]
  },
  {
   "cell_type": "code",
   "execution_count": 210,
   "id": "c7fa8234",
   "metadata": {},
   "outputs": [
    {
     "data": {
      "text/plain": [
       "{'R': [1, 2], 'a': 1, 'h': 2, 'u': 3, 'l': 4}"
      ]
     },
     "execution_count": 210,
     "metadata": {},
     "output_type": "execute_result"
    }
   ],
   "source": [
    "v"
   ]
  },
  {
   "cell_type": "code",
   "execution_count": 215,
   "id": "a1b724c7",
   "metadata": {},
   "outputs": [],
   "source": [
    "v = {k: v for (k, v) in zip(x, y) }"
   ]
  },
  {
   "cell_type": "code",
   "execution_count": 218,
   "id": "8c604e5c",
   "metadata": {},
   "outputs": [],
   "source": [
    "y1 = [0, 1, 2, 3, 4, 5]"
   ]
  },
  {
   "cell_type": "code",
   "execution_count": 219,
   "id": "3e9b7571",
   "metadata": {},
   "outputs": [
    {
     "data": {
      "text/plain": [
       "[0, 1, 2, 3, 4, 5]"
      ]
     },
     "execution_count": 219,
     "metadata": {},
     "output_type": "execute_result"
    }
   ],
   "source": [
    "y1"
   ]
  },
  {
   "cell_type": "code",
   "execution_count": 220,
   "id": "b02bd305",
   "metadata": {},
   "outputs": [],
   "source": [
    "v1 = {k: v**2 for (k, v) in zip(x, y1) }"
   ]
  },
  {
   "cell_type": "code",
   "execution_count": 221,
   "id": "b5f572d6",
   "metadata": {},
   "outputs": [
    {
     "data": {
      "text/plain": [
       "{'R': 25, 'a': 1, 'h': 4, 'u': 9, 'l': 16}"
      ]
     },
     "execution_count": 221,
     "metadata": {},
     "output_type": "execute_result"
    }
   ],
   "source": [
    "v1"
   ]
  },
  {
   "cell_type": "code",
   "execution_count": 222,
   "id": "1c397a18",
   "metadata": {},
   "outputs": [
    {
     "data": {
      "text/plain": [
       "{'R': [1, 2], 'a': 1, 'h': 2, 'u': 3, 'l': 4}"
      ]
     },
     "execution_count": 222,
     "metadata": {},
     "output_type": "execute_result"
    }
   ],
   "source": [
    "v"
   ]
  },
  {
   "cell_type": "code",
   "execution_count": 223,
   "id": "2b332ac3",
   "metadata": {},
   "outputs": [
    {
     "data": {
      "text/plain": [
       "dict_values([[1, 2], 1, 2, 3, 4])"
      ]
     },
     "execution_count": 223,
     "metadata": {},
     "output_type": "execute_result"
    }
   ],
   "source": [
    "v.values()"
   ]
  },
  {
   "cell_type": "code",
   "execution_count": 224,
   "id": "697b7107",
   "metadata": {},
   "outputs": [
    {
     "data": {
      "text/plain": [
       "dict_keys(['R', 'a', 'h', 'u', 'l'])"
      ]
     },
     "execution_count": 224,
     "metadata": {},
     "output_type": "execute_result"
    }
   ],
   "source": [
    "v.keys()"
   ]
  },
  {
   "cell_type": "code",
   "execution_count": 225,
   "id": "5f94ebaf",
   "metadata": {},
   "outputs": [
    {
     "data": {
      "text/plain": [
       "dict_items([('R', [1, 2]), ('a', 1), ('h', 2), ('u', 3), ('l', 4)])"
      ]
     },
     "execution_count": 225,
     "metadata": {},
     "output_type": "execute_result"
    }
   ],
   "source": [
    "v.items()"
   ]
  },
  {
   "cell_type": "code",
   "execution_count": 232,
   "id": "39a75468",
   "metadata": {},
   "outputs": [
    {
     "ename": "KeyError",
     "evalue": "'R'",
     "output_type": "error",
     "traceback": [
      "\u001b[1;31m---------------------------------------------------------------------------\u001b[0m",
      "\u001b[1;31mKeyError\u001b[0m                                  Traceback (most recent call last)",
      "Cell \u001b[1;32mIn[232], line 1\u001b[0m\n\u001b[1;32m----> 1\u001b[0m \u001b[43mv\u001b[49m\u001b[38;5;241;43m.\u001b[39;49m\u001b[43mpop\u001b[49m\u001b[43m(\u001b[49m\u001b[38;5;124;43m'\u001b[39;49m\u001b[38;5;124;43mR\u001b[39;49m\u001b[38;5;124;43m'\u001b[39;49m\u001b[43m)\u001b[49m\n",
      "\u001b[1;31mKeyError\u001b[0m: 'R'"
     ]
    }
   ],
   "source": [
    "v.pop('R')"
   ]
  },
  {
   "cell_type": "code",
   "execution_count": 235,
   "id": "dd184fab",
   "metadata": {},
   "outputs": [
    {
     "data": {
      "text/plain": [
       "{'a': 1}"
      ]
     },
     "execution_count": 235,
     "metadata": {},
     "output_type": "execute_result"
    }
   ],
   "source": [
    "v"
   ]
  },
  {
   "cell_type": "code",
   "execution_count": 236,
   "id": "519eb796",
   "metadata": {},
   "outputs": [
    {
     "data": {
      "text/plain": [
       "tuple"
      ]
     },
     "execution_count": 236,
     "metadata": {},
     "output_type": "execute_result"
    }
   ],
   "source": [
    "type(v.popitem())"
   ]
  },
  {
   "cell_type": "code",
   "execution_count": 239,
   "id": "0778b4a9",
   "metadata": {},
   "outputs": [],
   "source": [
    "v = v1.copy()"
   ]
  },
  {
   "cell_type": "code",
   "execution_count": 245,
   "id": "2f51ebf0",
   "metadata": {},
   "outputs": [],
   "source": [
    "v.clear()"
   ]
  },
  {
   "cell_type": "code",
   "execution_count": null,
   "id": "5bf73946",
   "metadata": {},
   "outputs": [],
   "source": []
  },
  {
   "cell_type": "code",
   "execution_count": 246,
   "id": "1563661e",
   "metadata": {},
   "outputs": [
    {
     "data": {
      "text/plain": [
       "{}"
      ]
     },
     "execution_count": 246,
     "metadata": {},
     "output_type": "execute_result"
    }
   ],
   "source": [
    "v"
   ]
  },
  {
   "cell_type": "markdown",
   "id": "cb6f75a6",
   "metadata": {},
   "source": [
    "# tuple"
   ]
  },
  {
   "cell_type": "code",
   "execution_count": 248,
   "id": "c2f4dd88",
   "metadata": {},
   "outputs": [
    {
     "data": {
      "text/plain": [
       "('k', 'r', 'i', 's', 'h', 'n', 'a')"
      ]
     },
     "execution_count": 248,
     "metadata": {},
     "output_type": "execute_result"
    }
   ],
   "source": [
    "tuple(\"krishna\")"
   ]
  },
  {
   "cell_type": "code",
   "execution_count": 249,
   "id": "b08a1261",
   "metadata": {},
   "outputs": [],
   "source": [
    "t = 0, 'a', 3"
   ]
  },
  {
   "cell_type": "code",
   "execution_count": 250,
   "id": "f8940130",
   "metadata": {},
   "outputs": [
    {
     "data": {
      "text/plain": [
       "(0, 'a', 3)"
      ]
     },
     "execution_count": 250,
     "metadata": {},
     "output_type": "execute_result"
    }
   ],
   "source": [
    "t\n"
   ]
  },
  {
   "cell_type": "code",
   "execution_count": 251,
   "id": "59e2664e",
   "metadata": {},
   "outputs": [
    {
     "data": {
      "text/plain": [
       "tuple"
      ]
     },
     "execution_count": 251,
     "metadata": {},
     "output_type": "execute_result"
    }
   ],
   "source": [
    "type(t)"
   ]
  },
  {
   "cell_type": "code",
   "execution_count": 254,
   "id": "d6ce26e6",
   "metadata": {},
   "outputs": [],
   "source": [
    "x = tuple(range(12))"
   ]
  },
  {
   "cell_type": "code",
   "execution_count": 255,
   "id": "180d4d54",
   "metadata": {},
   "outputs": [
    {
     "data": {
      "text/plain": [
       "(0, 1, 2, 3, 4, 5, 6, 7, 8, 9, 10, 11, 0, 'a', 3)"
      ]
     },
     "execution_count": 255,
     "metadata": {},
     "output_type": "execute_result"
    }
   ],
   "source": [
    "x + t"
   ]
  },
  {
   "cell_type": "code",
   "execution_count": 256,
   "id": "007f12ee",
   "metadata": {},
   "outputs": [
    {
     "data": {
      "text/plain": [
       "(0,\n",
       " 'a',\n",
       " 3,\n",
       " 0,\n",
       " 'a',\n",
       " 3,\n",
       " 0,\n",
       " 'a',\n",
       " 3,\n",
       " 0,\n",
       " 'a',\n",
       " 3,\n",
       " 0,\n",
       " 'a',\n",
       " 3,\n",
       " 0,\n",
       " 'a',\n",
       " 3,\n",
       " 0,\n",
       " 'a',\n",
       " 3,\n",
       " 0,\n",
       " 'a',\n",
       " 3,\n",
       " 0,\n",
       " 'a',\n",
       " 3,\n",
       " 0,\n",
       " 'a',\n",
       " 3)"
      ]
     },
     "execution_count": 256,
     "metadata": {},
     "output_type": "execute_result"
    }
   ],
   "source": [
    "t * 10"
   ]
  },
  {
   "cell_type": "code",
   "execution_count": 257,
   "id": "d5d417fd",
   "metadata": {},
   "outputs": [
    {
     "data": {
      "text/plain": [
       "0"
      ]
     },
     "execution_count": 257,
     "metadata": {},
     "output_type": "execute_result"
    }
   ],
   "source": [
    "t[0]"
   ]
  },
  {
   "cell_type": "code",
   "execution_count": 258,
   "id": "d5cadb97",
   "metadata": {},
   "outputs": [
    {
     "data": {
      "text/plain": [
       "(11, 10, 9, 8, 7, 6, 5, 4, 3, 2, 1, 0)"
      ]
     },
     "execution_count": 258,
     "metadata": {},
     "output_type": "execute_result"
    }
   ],
   "source": [
    "x[::-1]"
   ]
  },
  {
   "cell_type": "code",
   "execution_count": 259,
   "id": "20bb0f9f",
   "metadata": {},
   "outputs": [
    {
     "data": {
      "text/plain": [
       "(0, 2, 4, 6, 8, 10)"
      ]
     },
     "execution_count": 259,
     "metadata": {},
     "output_type": "execute_result"
    }
   ],
   "source": [
    "x[::2]"
   ]
  },
  {
   "cell_type": "code",
   "execution_count": 261,
   "id": "25eca2a0",
   "metadata": {},
   "outputs": [
    {
     "data": {
      "text/plain": [
       "1"
      ]
     },
     "execution_count": 261,
     "metadata": {},
     "output_type": "execute_result"
    }
   ],
   "source": [
    "x.count(2)"
   ]
  },
  {
   "cell_type": "code",
   "execution_count": 262,
   "id": "77ba36c5",
   "metadata": {},
   "outputs": [
    {
     "data": {
      "text/plain": [
       "(0, 1, 2, 3, 4, 5, 6, 7, 8, 9, 10, 11)"
      ]
     },
     "execution_count": 262,
     "metadata": {},
     "output_type": "execute_result"
    }
   ],
   "source": [
    "x\n"
   ]
  },
  {
   "cell_type": "code",
   "execution_count": 264,
   "id": "9fde1ae1",
   "metadata": {},
   "outputs": [
    {
     "data": {
      "text/plain": [
       "11"
      ]
     },
     "execution_count": 264,
     "metadata": {},
     "output_type": "execute_result"
    }
   ],
   "source": [
    "x.index(11)"
   ]
  },
  {
   "cell_type": "code",
   "execution_count": 265,
   "id": "77fe2fdb",
   "metadata": {},
   "outputs": [
    {
     "data": {
      "text/plain": [
       "['.ipynb_checkpoints',\n",
       " 'expressions.ipynb',\n",
       " 'file.txt',\n",
       " 'objects.ipynb',\n",
       " 'sample1',\n",
       " 'sample2']"
      ]
     },
     "execution_count": 265,
     "metadata": {},
     "output_type": "execute_result"
    }
   ],
   "source": [
    "os.listdir()"
   ]
  },
  {
   "cell_type": "code",
   "execution_count": 269,
   "id": "a2c2341a",
   "metadata": {},
   "outputs": [],
   "source": [
    "file = open(r\"./file.txt\", \"r\")"
   ]
  },
  {
   "cell_type": "code",
   "execution_count": 270,
   "id": "302a3622",
   "metadata": {},
   "outputs": [
    {
     "data": {
      "text/plain": [
       "_io.TextIOWrapper"
      ]
     },
     "execution_count": 270,
     "metadata": {},
     "output_type": "execute_result"
    }
   ],
   "source": [
    "type(file)"
   ]
  },
  {
   "cell_type": "code",
   "execution_count": 272,
   "id": "9f32033b",
   "metadata": {},
   "outputs": [
    {
     "data": {
      "text/plain": [
       "''"
      ]
     },
     "execution_count": 272,
     "metadata": {},
     "output_type": "execute_result"
    }
   ],
   "source": [
    "file.read()"
   ]
  },
  {
   "cell_type": "code",
   "execution_count": 273,
   "id": "c050be14",
   "metadata": {},
   "outputs": [
    {
     "data": {
      "text/plain": [
       "[]"
      ]
     },
     "execution_count": 273,
     "metadata": {},
     "output_type": "execute_result"
    }
   ],
   "source": [
    "file.readlines()"
   ]
  },
  {
   "cell_type": "code",
   "execution_count": 282,
   "id": "ae8093e4",
   "metadata": {},
   "outputs": [],
   "source": [
    "# Opening a file in read mode\n",
    "file_read = open(r\"./file.txt\", \"r\")\n"
   ]
  },
  {
   "cell_type": "code",
   "execution_count": 288,
   "id": "722caffe",
   "metadata": {},
   "outputs": [
    {
     "data": {
      "text/plain": [
       "''"
      ]
     },
     "execution_count": 288,
     "metadata": {},
     "output_type": "execute_result"
    }
   ],
   "source": [
    "file_read.read()"
   ]
  },
  {
   "cell_type": "code",
   "execution_count": 289,
   "id": "c182af8d",
   "metadata": {},
   "outputs": [],
   "source": [
    "# Opening a file in write mode\n",
    "file_write = open(r\"./file.txt\", 'w')"
   ]
  },
  {
   "cell_type": "code",
   "execution_count": 290,
   "id": "a0486f7b",
   "metadata": {},
   "outputs": [
    {
     "data": {
      "text/plain": [
       "8"
      ]
     },
     "execution_count": 290,
     "metadata": {},
     "output_type": "execute_result"
    }
   ],
   "source": [
    "file_write.write(\"Say Shiv\")"
   ]
  },
  {
   "cell_type": "code",
   "execution_count": 292,
   "id": "0bb07a93",
   "metadata": {},
   "outputs": [],
   "source": [
    "file_write.writelines(['Say Shiv', 'hare', 'rama'])"
   ]
  },
  {
   "cell_type": "code",
   "execution_count": 293,
   "id": "9b4dda73",
   "metadata": {},
   "outputs": [],
   "source": [
    "file_write.close()"
   ]
  },
  {
   "cell_type": "code",
   "execution_count": 302,
   "id": "75097a27",
   "metadata": {},
   "outputs": [],
   "source": [
    "# Opening a file in read mode\n",
    "file_read = open(r\"./file.txt\", \"r\")\n"
   ]
  },
  {
   "cell_type": "code",
   "execution_count": 298,
   "id": "22ec319e",
   "metadata": {},
   "outputs": [
    {
     "data": {
      "text/plain": [
       "'Say ShivSay Shivharerama\\nSay ShivSay Shivharerama\\nSay ShivSay Shivharerama\\nSay ShivSay Shivharerama'"
      ]
     },
     "execution_count": 298,
     "metadata": {},
     "output_type": "execute_result"
    }
   ],
   "source": [
    "file_read.read()"
   ]
  },
  {
   "cell_type": "code",
   "execution_count": 303,
   "id": "afd077bc",
   "metadata": {},
   "outputs": [
    {
     "name": "stdout",
     "output_type": "stream",
     "text": [
      "Say ShivSay Shivharerama\n",
      "\n",
      "Say ShivSay Shivharerama\n",
      "\n",
      "Say ShivSay Shivharerama\n",
      "\n",
      "Say ShivSay Shivharerama\n"
     ]
    }
   ],
   "source": [
    "for line in file_read:\n",
    "    print(line)"
   ]
  },
  {
   "cell_type": "markdown",
   "id": "64560e36",
   "metadata": {},
   "source": [
    "# sets"
   ]
  },
  {
   "cell_type": "code",
   "execution_count": 318,
   "id": "12252a93",
   "metadata": {},
   "outputs": [],
   "source": [
    "s = set({1:2})"
   ]
  },
  {
   "cell_type": "code",
   "execution_count": 319,
   "id": "1383c6ec",
   "metadata": {},
   "outputs": [
    {
     "data": {
      "text/plain": [
       "{1}"
      ]
     },
     "execution_count": 319,
     "metadata": {},
     "output_type": "execute_result"
    }
   ],
   "source": [
    "s"
   ]
  },
  {
   "cell_type": "code",
   "execution_count": 323,
   "id": "31ea7391",
   "metadata": {},
   "outputs": [],
   "source": [
    "s1 = set(list(range(10)))"
   ]
  },
  {
   "cell_type": "code",
   "execution_count": 324,
   "id": "d437babb",
   "metadata": {},
   "outputs": [
    {
     "data": {
      "text/plain": [
       "{0, 1, 2, 3, 4, 5, 6, 7, 8, 9}"
      ]
     },
     "execution_count": 324,
     "metadata": {},
     "output_type": "execute_result"
    }
   ],
   "source": [
    "s1"
   ]
  },
  {
   "cell_type": "code",
   "execution_count": 325,
   "id": "59529cd4",
   "metadata": {},
   "outputs": [],
   "source": [
    "s2 = set(list(range(5, 15)))"
   ]
  },
  {
   "cell_type": "code",
   "execution_count": 327,
   "id": "2f6ff33a",
   "metadata": {},
   "outputs": [
    {
     "data": {
      "text/plain": [
       "{5, 6, 7, 8, 9, 10, 11, 12, 13, 14}"
      ]
     },
     "execution_count": 327,
     "metadata": {},
     "output_type": "execute_result"
    }
   ],
   "source": [
    "s2 "
   ]
  },
  {
   "cell_type": "code",
   "execution_count": 340,
   "id": "606a9184",
   "metadata": {},
   "outputs": [],
   "source": [
    "s1.add(12)"
   ]
  },
  {
   "cell_type": "code",
   "execution_count": 341,
   "id": "7c87e0b5",
   "metadata": {},
   "outputs": [
    {
     "data": {
      "text/plain": [
       "{0, 1, 2, 3, 4, 5, 6, 7, 8, 9, 11, 12}"
      ]
     },
     "execution_count": 341,
     "metadata": {},
     "output_type": "execute_result"
    }
   ],
   "source": [
    "s1 "
   ]
  },
  {
   "cell_type": "code",
   "execution_count": 339,
   "id": "2d72c381",
   "metadata": {},
   "outputs": [
    {
     "data": {
      "text/plain": [
       "{0, 1, 2, 3, 4, 5, 6, 7, 8, 9, 11}"
      ]
     },
     "execution_count": 339,
     "metadata": {},
     "output_type": "execute_result"
    }
   ],
   "source": [
    "s1"
   ]
  },
  {
   "cell_type": "code",
   "execution_count": 362,
   "id": "8c494d7c",
   "metadata": {},
   "outputs": [
    {
     "ename": "TypeError",
     "evalue": "unhashable type: 'list'",
     "output_type": "error",
     "traceback": [
      "\u001b[1;31m---------------------------------------------------------------------------\u001b[0m",
      "\u001b[1;31mTypeError\u001b[0m                                 Traceback (most recent call last)",
      "Cell \u001b[1;32mIn[362], line 1\u001b[0m\n\u001b[1;32m----> 1\u001b[0m s3 \u001b[38;5;241m=\u001b[39m {\u001b[38;5;241m1\u001b[39m, \u001b[38;5;241m1.5\u001b[39m, (\u001b[38;5;241m1\u001b[39m, \u001b[38;5;241m2\u001b[39m), \u001b[38;5;124m'\u001b[39m\u001b[38;5;124m[1, 2]\u001b[39m\u001b[38;5;124m'\u001b[39m, \u001b[38;5;124m'\u001b[39m\u001b[38;5;124m{\u001b[39m\u001b[38;5;124m1, 2}\u001b[39m\u001b[38;5;124m'\u001b[39m, s4, [\u001b[38;5;241m2\u001b[39m, \u001b[38;5;241m3\u001b[39m]}\n",
      "\u001b[1;31mTypeError\u001b[0m: unhashable type: 'list'"
     ]
    }
   ],
   "source": [
    "s3 = {1, 1.5, (1, 2), '[1, 2]', '{1, 2}', s4, [2, 3]}"
   ]
  },
  {
   "cell_type": "code",
   "execution_count": 361,
   "id": "9ae0a4f2",
   "metadata": {},
   "outputs": [
    {
     "data": {
      "text/plain": [
       "{(1, 2), 1, 1.5, '[1, 2]', frozenset({1, 2}), '{1, 2}'}"
      ]
     },
     "execution_count": 361,
     "metadata": {},
     "output_type": "execute_result"
    }
   ],
   "source": [
    "s3"
   ]
  },
  {
   "cell_type": "code",
   "execution_count": 356,
   "id": "4bbb4cd1",
   "metadata": {},
   "outputs": [],
   "source": [
    "s4 = frozenset({1, 2})"
   ]
  },
  {
   "cell_type": "code",
   "execution_count": 363,
   "id": "3a2b0af7",
   "metadata": {},
   "outputs": [
    {
     "data": {
      "text/plain": [
       "frozenset({1, 2})"
      ]
     },
     "execution_count": 363,
     "metadata": {},
     "output_type": "execute_result"
    }
   ],
   "source": [
    "\n",
    "s4"
   ]
  },
  {
   "cell_type": "code",
   "execution_count": 364,
   "id": "15d87423",
   "metadata": {},
   "outputs": [
    {
     "data": {
      "text/plain": [
       "{0, 1, 2, 3, 4, 5, 6, 7, 8, 9, 11, 12}"
      ]
     },
     "execution_count": 364,
     "metadata": {},
     "output_type": "execute_result"
    }
   ],
   "source": [
    "s1\n"
   ]
  },
  {
   "cell_type": "code",
   "execution_count": 365,
   "id": "fe35ae33",
   "metadata": {},
   "outputs": [
    {
     "data": {
      "text/plain": [
       "{5, 6, 7, 8, 9, 10, 11, 12, 13, 14}"
      ]
     },
     "execution_count": 365,
     "metadata": {},
     "output_type": "execute_result"
    }
   ],
   "source": [
    "s2"
   ]
  },
  {
   "cell_type": "code",
   "execution_count": 366,
   "id": "89cb2067",
   "metadata": {},
   "outputs": [
    {
     "data": {
      "text/plain": [
       "{5, 6, 7, 8, 9, 11, 12}"
      ]
     },
     "execution_count": 366,
     "metadata": {},
     "output_type": "execute_result"
    }
   ],
   "source": [
    "s1 & s2"
   ]
  },
  {
   "cell_type": "code",
   "execution_count": 368,
   "id": "a34c03c6",
   "metadata": {},
   "outputs": [
    {
     "data": {
      "text/plain": [
       "{0, 1, 2, 3, 4, 5, 6, 7, 8, 9, 10, 11, 12, 13, 14}"
      ]
     },
     "execution_count": 368,
     "metadata": {},
     "output_type": "execute_result"
    }
   ],
   "source": [
    "s1 | s2"
   ]
  },
  {
   "cell_type": "code",
   "execution_count": 369,
   "id": "af67160d",
   "metadata": {},
   "outputs": [
    {
     "data": {
      "text/plain": [
       "{0, 1, 2, 3, 4}"
      ]
     },
     "execution_count": 369,
     "metadata": {},
     "output_type": "execute_result"
    }
   ],
   "source": [
    "s1 - s2"
   ]
  },
  {
   "cell_type": "code",
   "execution_count": 370,
   "id": "55cf91bf",
   "metadata": {},
   "outputs": [
    {
     "data": {
      "text/plain": [
       "{10, 13, 14}"
      ]
     },
     "execution_count": 370,
     "metadata": {},
     "output_type": "execute_result"
    }
   ],
   "source": [
    "s2 - s1"
   ]
  },
  {
   "cell_type": "code",
   "execution_count": 371,
   "id": "fcfaa84e",
   "metadata": {},
   "outputs": [
    {
     "data": {
      "text/plain": [
       "{1, 4, 9, 16}"
      ]
     },
     "execution_count": 371,
     "metadata": {},
     "output_type": "execute_result"
    }
   ],
   "source": [
    "{x **2 for x in [1, 2, 3, 4]}"
   ]
  },
  {
   "cell_type": "code",
   "execution_count": 372,
   "id": "2b176c6c",
   "metadata": {},
   "outputs": [
    {
     "data": {
      "text/plain": [
       "False"
      ]
     },
     "execution_count": 372,
     "metadata": {},
     "output_type": "execute_result"
    }
   ],
   "source": [
    "s1.issubset(s2)"
   ]
  },
  {
   "cell_type": "code",
   "execution_count": 376,
   "id": "88d6c765",
   "metadata": {},
   "outputs": [
    {
     "data": {
      "text/plain": [
       "True"
      ]
     },
     "execution_count": 376,
     "metadata": {},
     "output_type": "execute_result"
    }
   ],
   "source": [
    "s1.issuperset(s3)"
   ]
  },
  {
   "cell_type": "code",
   "execution_count": 375,
   "id": "6afc079f",
   "metadata": {},
   "outputs": [],
   "source": [
    "s3 = {1, 2, 3}"
   ]
  },
  {
   "cell_type": "code",
   "execution_count": null,
   "id": "25da2c93",
   "metadata": {},
   "outputs": [],
   "source": [
    "s3."
   ]
  },
  {
   "cell_type": "markdown",
   "id": "217a499d",
   "metadata": {},
   "source": [
    "# Boolean"
   ]
  },
  {
   "cell_type": "code",
   "execution_count": 377,
   "id": "a92f04ba",
   "metadata": {},
   "outputs": [
    {
     "data": {
      "text/plain": [
       "True"
      ]
     },
     "execution_count": 377,
     "metadata": {},
     "output_type": "execute_result"
    }
   ],
   "source": [
    "True"
   ]
  },
  {
   "cell_type": "code",
   "execution_count": 378,
   "id": "343d668e",
   "metadata": {},
   "outputs": [
    {
     "data": {
      "text/plain": [
       "bool"
      ]
     },
     "execution_count": 378,
     "metadata": {},
     "output_type": "execute_result"
    }
   ],
   "source": [
    "type(True)"
   ]
  },
  {
   "cell_type": "code",
   "execution_count": 379,
   "id": "41bac150",
   "metadata": {},
   "outputs": [
    {
     "data": {
      "text/plain": [
       "bool"
      ]
     },
     "execution_count": 379,
     "metadata": {},
     "output_type": "execute_result"
    }
   ],
   "source": [
    "type(False)"
   ]
  },
  {
   "cell_type": "code",
   "execution_count": 380,
   "id": "88670044",
   "metadata": {},
   "outputs": [],
   "source": [
    "x = True + 9"
   ]
  },
  {
   "cell_type": "code",
   "execution_count": 381,
   "id": "5f1e68fc",
   "metadata": {},
   "outputs": [
    {
     "data": {
      "text/plain": [
       "10"
      ]
     },
     "execution_count": 381,
     "metadata": {},
     "output_type": "execute_result"
    }
   ],
   "source": [
    "x"
   ]
  },
  {
   "cell_type": "code",
   "execution_count": 382,
   "id": "b83a142b",
   "metadata": {},
   "outputs": [],
   "source": [
    "y = False + 10"
   ]
  },
  {
   "cell_type": "code",
   "execution_count": 383,
   "id": "89f8707f",
   "metadata": {},
   "outputs": [
    {
     "data": {
      "text/plain": [
       "10"
      ]
     },
     "execution_count": 383,
     "metadata": {},
     "output_type": "execute_result"
    }
   ],
   "source": [
    "y"
   ]
  },
  {
   "cell_type": "code",
   "execution_count": 384,
   "id": "a29b2868",
   "metadata": {},
   "outputs": [],
   "source": [
    "None\n"
   ]
  },
  {
   "cell_type": "code",
   "execution_count": 385,
   "id": "4d7c871f",
   "metadata": {},
   "outputs": [
    {
     "data": {
      "text/plain": [
       "NoneType"
      ]
     },
     "execution_count": 385,
     "metadata": {},
     "output_type": "execute_result"
    }
   ],
   "source": [
    "type(None)"
   ]
  },
  {
   "cell_type": "code",
   "execution_count": 386,
   "id": "81b192cf",
   "metadata": {},
   "outputs": [
    {
     "data": {
      "text/plain": [
       "type"
      ]
     },
     "execution_count": 386,
     "metadata": {},
     "output_type": "execute_result"
    }
   ],
   "source": [
    "type(type)"
   ]
  },
  {
   "cell_type": "markdown",
   "id": "0e9513ed",
   "metadata": {},
   "source": [
    "# sets"
   ]
  },
  {
   "cell_type": "code",
   "execution_count": 387,
   "id": "b4054dec",
   "metadata": {},
   "outputs": [],
   "source": [
    "s1 = {(1, 2), 'shiva'}"
   ]
  },
  {
   "cell_type": "code",
   "execution_count": 390,
   "id": "e413a832",
   "metadata": {},
   "outputs": [],
   "source": [
    "s1.add(4)"
   ]
  },
  {
   "cell_type": "code",
   "execution_count": 398,
   "id": "2997b2f3",
   "metadata": {},
   "outputs": [],
   "source": [
    "s12 = {(1, 2), 'shiva', s3}"
   ]
  },
  {
   "cell_type": "code",
   "execution_count": 399,
   "id": "28b5f7ce",
   "metadata": {},
   "outputs": [
    {
     "data": {
      "text/plain": [
       "{(1, 2), frozenset({1, 2}), 'shiva'}"
      ]
     },
     "execution_count": 399,
     "metadata": {},
     "output_type": "execute_result"
    }
   ],
   "source": [
    "s12"
   ]
  },
  {
   "cell_type": "code",
   "execution_count": 396,
   "id": "dcc8e88d",
   "metadata": {},
   "outputs": [],
   "source": [
    "s3 = frozenset((1, 2))"
   ]
  },
  {
   "cell_type": "code",
   "execution_count": null,
   "id": "7f5c9be0",
   "metadata": {},
   "outputs": [],
   "source": []
  }
 ],
 "metadata": {
  "kernelspec": {
   "display_name": "Python 3 (ipykernel)",
   "language": "python",
   "name": "python3"
  },
  "language_info": {
   "codemirror_mode": {
    "name": "ipython",
    "version": 3
   },
   "file_extension": ".py",
   "mimetype": "text/x-python",
   "name": "python",
   "nbconvert_exporter": "python",
   "pygments_lexer": "ipython3",
   "version": "3.11.2"
  }
 },
 "nbformat": 4,
 "nbformat_minor": 5
}
